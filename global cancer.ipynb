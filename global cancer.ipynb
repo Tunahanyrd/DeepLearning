{
 "cells": [
  {
   "cell_type": "markdown",
   "id": "81dfeade",
   "metadata": {},
   "source": [
    "Connected to ml_env (Python 3.10.16)"
   ]
  },
  {
   "cell_type": "code",
   "execution_count": null,
   "id": "1b71904a-382b-483d-8d81-db84f8686ec6",
   "metadata": {},
   "outputs": [],
   "source": [
    "import pandas as pd\n",
    "\n",
    "df = pd.read_csv(\"canser.csv\")"
   ]
  },
  {
   "cell_type": "code",
   "execution_count": null,
   "id": "01ee3df7-b77c-4539-81fd-cce61b983fd9",
   "metadata": {},
   "outputs": [
    {
     "data": {
      "application/vnd.microsoft.datawrangler.viewer.v0+json": {
       "columns": [
        {
         "name": "index",
         "rawType": "int64",
         "type": "integer"
        },
        {
         "name": "Patient_ID",
         "rawType": "object",
         "type": "string"
        },
        {
         "name": "Age",
         "rawType": "int64",
         "type": "integer"
        },
        {
         "name": "Gender",
         "rawType": "object",
         "type": "string"
        },
        {
         "name": "Country_Region",
         "rawType": "object",
         "type": "string"
        },
        {
         "name": "Year",
         "rawType": "int64",
         "type": "integer"
        },
        {
         "name": "Genetic_Risk",
         "rawType": "float64",
         "type": "float"
        },
        {
         "name": "Air_Pollution",
         "rawType": "float64",
         "type": "float"
        },
        {
         "name": "Alcohol_Use",
         "rawType": "float64",
         "type": "float"
        },
        {
         "name": "Smoking",
         "rawType": "float64",
         "type": "float"
        },
        {
         "name": "Obesity_Level",
         "rawType": "float64",
         "type": "float"
        },
        {
         "name": "Cancer_Type",
         "rawType": "object",
         "type": "string"
        },
        {
         "name": "Cancer_Stage",
         "rawType": "object",
         "type": "string"
        },
        {
         "name": "Treatment_Cost_USD",
         "rawType": "float64",
         "type": "float"
        },
        {
         "name": "Survival_Years",
         "rawType": "float64",
         "type": "float"
        },
        {
         "name": "Target_Severity_Score",
         "rawType": "float64",
         "type": "float"
        }
       ],
       "conversionMethod": "pd.DataFrame",
       "ref": "63800895-aa92-4d6e-afdd-ed089cd419ca",
       "rows": [
        [
         "0",
         "PT0000000",
         "71",
         "Male",
         "UK",
         "2021",
         "6.4",
         "2.8",
         "9.5",
         "0.9",
         "8.7",
         "Lung",
         "Stage III",
         "62913.44",
         "5.9",
         "4.92"
        ],
        [
         "1",
         "PT0000001",
         "34",
         "Male",
         "China",
         "2021",
         "1.3",
         "4.5",
         "3.7",
         "3.9",
         "6.3",
         "Leukemia",
         "Stage 0",
         "12573.41",
         "4.7",
         "4.65"
        ],
        [
         "2",
         "PT0000002",
         "80",
         "Male",
         "Pakistan",
         "2023",
         "7.4",
         "7.9",
         "2.4",
         "4.7",
         "0.1",
         "Breast",
         "Stage II",
         "6984.33",
         "7.1",
         "5.84"
        ]
       ],
       "shape": {
        "columns": 15,
        "rows": 3
       }
      },
      "text/html": [
       "<div>\n",
       "<style scoped>\n",
       "    .dataframe tbody tr th:only-of-type {\n",
       "        vertical-align: middle;\n",
       "    }\n",
       "\n",
       "    .dataframe tbody tr th {\n",
       "        vertical-align: top;\n",
       "    }\n",
       "\n",
       "    .dataframe thead th {\n",
       "        text-align: right;\n",
       "    }\n",
       "</style>\n",
       "<table border=\"1\" class=\"dataframe\">\n",
       "  <thead>\n",
       "    <tr style=\"text-align: right;\">\n",
       "      <th></th>\n",
       "      <th>Patient_ID</th>\n",
       "      <th>Age</th>\n",
       "      <th>Gender</th>\n",
       "      <th>Country_Region</th>\n",
       "      <th>Year</th>\n",
       "      <th>Genetic_Risk</th>\n",
       "      <th>Air_Pollution</th>\n",
       "      <th>Alcohol_Use</th>\n",
       "      <th>Smoking</th>\n",
       "      <th>Obesity_Level</th>\n",
       "      <th>Cancer_Type</th>\n",
       "      <th>Cancer_Stage</th>\n",
       "      <th>Treatment_Cost_USD</th>\n",
       "      <th>Survival_Years</th>\n",
       "      <th>Target_Severity_Score</th>\n",
       "    </tr>\n",
       "  </thead>\n",
       "  <tbody>\n",
       "    <tr>\n",
       "      <th>0</th>\n",
       "      <td>PT0000000</td>\n",
       "      <td>71</td>\n",
       "      <td>Male</td>\n",
       "      <td>UK</td>\n",
       "      <td>2021</td>\n",
       "      <td>6.4</td>\n",
       "      <td>2.8</td>\n",
       "      <td>9.5</td>\n",
       "      <td>0.9</td>\n",
       "      <td>8.7</td>\n",
       "      <td>Lung</td>\n",
       "      <td>Stage III</td>\n",
       "      <td>62913.44</td>\n",
       "      <td>5.9</td>\n",
       "      <td>4.92</td>\n",
       "    </tr>\n",
       "    <tr>\n",
       "      <th>1</th>\n",
       "      <td>PT0000001</td>\n",
       "      <td>34</td>\n",
       "      <td>Male</td>\n",
       "      <td>China</td>\n",
       "      <td>2021</td>\n",
       "      <td>1.3</td>\n",
       "      <td>4.5</td>\n",
       "      <td>3.7</td>\n",
       "      <td>3.9</td>\n",
       "      <td>6.3</td>\n",
       "      <td>Leukemia</td>\n",
       "      <td>Stage 0</td>\n",
       "      <td>12573.41</td>\n",
       "      <td>4.7</td>\n",
       "      <td>4.65</td>\n",
       "    </tr>\n",
       "    <tr>\n",
       "      <th>2</th>\n",
       "      <td>PT0000002</td>\n",
       "      <td>80</td>\n",
       "      <td>Male</td>\n",
       "      <td>Pakistan</td>\n",
       "      <td>2023</td>\n",
       "      <td>7.4</td>\n",
       "      <td>7.9</td>\n",
       "      <td>2.4</td>\n",
       "      <td>4.7</td>\n",
       "      <td>0.1</td>\n",
       "      <td>Breast</td>\n",
       "      <td>Stage II</td>\n",
       "      <td>6984.33</td>\n",
       "      <td>7.1</td>\n",
       "      <td>5.84</td>\n",
       "    </tr>\n",
       "  </tbody>\n",
       "</table>\n",
       "</div>"
      ],
      "text/plain": [
       "  Patient_ID  Age Gender Country_Region  Year  Genetic_Risk  Air_Pollution  \\\n",
       "0  PT0000000   71   Male             UK  2021           6.4            2.8   \n",
       "1  PT0000001   34   Male          China  2021           1.3            4.5   \n",
       "2  PT0000002   80   Male       Pakistan  2023           7.4            7.9   \n",
       "\n",
       "   Alcohol_Use  Smoking  Obesity_Level Cancer_Type Cancer_Stage  \\\n",
       "0          9.5      0.9            8.7        Lung    Stage III   \n",
       "1          3.7      3.9            6.3    Leukemia      Stage 0   \n",
       "2          2.4      4.7            0.1      Breast     Stage II   \n",
       "\n",
       "   Treatment_Cost_USD  Survival_Years  Target_Severity_Score  \n",
       "0            62913.44             5.9                   4.92  \n",
       "1            12573.41             4.7                   4.65  \n",
       "2             6984.33             7.1                   5.84  "
      ]
     },
     "execution_count": 2,
     "metadata": {},
     "output_type": "execute_result"
    }
   ],
   "source": [
    "df.head(3)"
   ]
  },
  {
   "cell_type": "code",
   "execution_count": null,
   "id": "bfee5f9a-9417-44ac-b1dc-563ce52a8648",
   "metadata": {},
   "outputs": [
    {
     "data": {
      "text/plain": [
       "Patient_ID               0\n",
       "Age                      0\n",
       "Gender                   0\n",
       "Country_Region           0\n",
       "Year                     0\n",
       "Genetic_Risk             0\n",
       "Air_Pollution            0\n",
       "Alcohol_Use              0\n",
       "Smoking                  0\n",
       "Obesity_Level            0\n",
       "Cancer_Type              0\n",
       "Cancer_Stage             0\n",
       "Treatment_Cost_USD       0\n",
       "Survival_Years           0\n",
       "Target_Severity_Score    0\n",
       "dtype: int64"
      ]
     },
     "execution_count": 3,
     "metadata": {},
     "output_type": "execute_result"
    }
   ],
   "source": [
    "df.describe()\n",
    "df.isnull().sum()"
   ]
  },
  {
   "cell_type": "code",
   "execution_count": null,
   "id": "174c3817-4ba6-4c3b-96cd-4087b5154e65",
   "metadata": {},
   "outputs": [
    {
     "data": {
      "text/plain": [
       "Patient_ID                object\n",
       "Age                        int64\n",
       "Gender                    object\n",
       "Country_Region            object\n",
       "Year                       int64\n",
       "Genetic_Risk             float64\n",
       "Air_Pollution            float64\n",
       "Alcohol_Use              float64\n",
       "Smoking                  float64\n",
       "Obesity_Level            float64\n",
       "Cancer_Type               object\n",
       "Cancer_Stage              object\n",
       "Treatment_Cost_USD       float64\n",
       "Survival_Years           float64\n",
       "Target_Severity_Score    float64\n",
       "dtype: object"
      ]
     },
     "execution_count": 4,
     "metadata": {},
     "output_type": "execute_result"
    }
   ],
   "source": [
    "df.dtypes"
   ]
  },
  {
   "cell_type": "code",
   "execution_count": null,
   "id": "24604506-2823-4512-aa54-f1752535df27",
   "metadata": {},
   "outputs": [
    {
     "data": {
      "text/plain": [
       "array(['UK', 'China', 'Pakistan', 'Brazil', 'Germany', 'Canada', 'USA',\n",
       "       'India', 'Australia', 'Russia'], dtype=object)"
      ]
     },
     "execution_count": 5,
     "metadata": {},
     "output_type": "execute_result"
    }
   ],
   "source": [
    "df[\"Country_Region\"].unique()"
   ]
  },
  {
   "cell_type": "code",
   "execution_count": null,
   "id": "c271fe20-e56d-49b9-9f91-de62e98a550d",
   "metadata": {},
   "outputs": [
    {
     "data": {
      "text/plain": [
       "Cancer_Stage\n",
       "Stage II     10124\n",
       "Stage I      10046\n",
       "Stage III    10008\n",
       "Stage IV      9933\n",
       "Stage 0       9889\n",
       "Name: count, dtype: int64"
      ]
     },
     "execution_count": 6,
     "metadata": {},
     "output_type": "execute_result"
    }
   ],
   "source": [
    "df[\"Country_Region\"].value_counts()\n",
    "df[\"Cancer_Stage\"].value_counts()"
   ]
  },
  {
   "cell_type": "code",
   "execution_count": null,
   "id": "6c5a5c1c-87d0-4a24-aa8a-c12ede7a85d3",
   "metadata": {},
   "outputs": [],
   "source": [
    "df = pd.get_dummies(df, columns=[\"Cancer_Type\", \"Country_Region\", \"Gender\", \"Cancer_Stage\"], drop_first=True)"
   ]
  },
  {
   "cell_type": "code",
   "execution_count": null,
   "id": "4fdef2a7-c7a1-469e-9d85-294ce3a168f5",
   "metadata": {},
   "outputs": [],
   "source": [
    "df = df.drop(columns = [\"Patient_ID\", \"Year\"])"
   ]
  },
  {
   "cell_type": "code",
   "execution_count": null,
   "id": "bf7622e9-102b-40a8-8ac6-f9b567e22b59",
   "metadata": {},
   "outputs": [
    {
     "data": {
      "application/vnd.microsoft.datawrangler.viewer.v0+json": {
       "columns": [
        {
         "name": "index",
         "rawType": "int64",
         "type": "integer"
        },
        {
         "name": "Age",
         "rawType": "int64",
         "type": "integer"
        },
        {
         "name": "Genetic_Risk",
         "rawType": "float64",
         "type": "float"
        },
        {
         "name": "Air_Pollution",
         "rawType": "float64",
         "type": "float"
        },
        {
         "name": "Alcohol_Use",
         "rawType": "float64",
         "type": "float"
        },
        {
         "name": "Smoking",
         "rawType": "float64",
         "type": "float"
        },
        {
         "name": "Obesity_Level",
         "rawType": "float64",
         "type": "float"
        },
        {
         "name": "Treatment_Cost_USD",
         "rawType": "float64",
         "type": "float"
        },
        {
         "name": "Survival_Years",
         "rawType": "float64",
         "type": "float"
        },
        {
         "name": "Target_Severity_Score",
         "rawType": "float64",
         "type": "float"
        },
        {
         "name": "Cancer_Type_Cervical",
         "rawType": "bool",
         "type": "boolean"
        },
        {
         "name": "Cancer_Type_Colon",
         "rawType": "bool",
         "type": "boolean"
        },
        {
         "name": "Cancer_Type_Leukemia",
         "rawType": "bool",
         "type": "boolean"
        },
        {
         "name": "Cancer_Type_Liver",
         "rawType": "bool",
         "type": "boolean"
        },
        {
         "name": "Cancer_Type_Lung",
         "rawType": "bool",
         "type": "boolean"
        },
        {
         "name": "Cancer_Type_Prostate",
         "rawType": "bool",
         "type": "boolean"
        },
        {
         "name": "Cancer_Type_Skin",
         "rawType": "bool",
         "type": "boolean"
        },
        {
         "name": "Country_Region_Brazil",
         "rawType": "bool",
         "type": "boolean"
        },
        {
         "name": "Country_Region_Canada",
         "rawType": "bool",
         "type": "boolean"
        },
        {
         "name": "Country_Region_China",
         "rawType": "bool",
         "type": "boolean"
        },
        {
         "name": "Country_Region_Germany",
         "rawType": "bool",
         "type": "boolean"
        },
        {
         "name": "Country_Region_India",
         "rawType": "bool",
         "type": "boolean"
        },
        {
         "name": "Country_Region_Pakistan",
         "rawType": "bool",
         "type": "boolean"
        },
        {
         "name": "Country_Region_Russia",
         "rawType": "bool",
         "type": "boolean"
        },
        {
         "name": "Country_Region_UK",
         "rawType": "bool",
         "type": "boolean"
        },
        {
         "name": "Country_Region_USA",
         "rawType": "bool",
         "type": "boolean"
        },
        {
         "name": "Gender_Male",
         "rawType": "bool",
         "type": "boolean"
        },
        {
         "name": "Gender_Other",
         "rawType": "bool",
         "type": "boolean"
        },
        {
         "name": "Cancer_Stage_Stage I",
         "rawType": "bool",
         "type": "boolean"
        },
        {
         "name": "Cancer_Stage_Stage II",
         "rawType": "bool",
         "type": "boolean"
        },
        {
         "name": "Cancer_Stage_Stage III",
         "rawType": "bool",
         "type": "boolean"
        },
        {
         "name": "Cancer_Stage_Stage IV",
         "rawType": "bool",
         "type": "boolean"
        }
       ],
       "conversionMethod": "pd.DataFrame",
       "ref": "e8be1f65-3c91-46fe-b7ed-946f38adf1b8",
       "rows": [
        [
         "0",
         "71",
         "6.4",
         "2.8",
         "9.5",
         "0.9",
         "8.7",
         "62913.44",
         "5.9",
         "4.92",
         "False",
         "False",
         "False",
         "False",
         "True",
         "False",
         "False",
         "False",
         "False",
         "False",
         "False",
         "False",
         "False",
         "False",
         "True",
         "False",
         "True",
         "False",
         "False",
         "False",
         "True",
         "False"
        ],
        [
         "1",
         "34",
         "1.3",
         "4.5",
         "3.7",
         "3.9",
         "6.3",
         "12573.41",
         "4.7",
         "4.65",
         "False",
         "False",
         "True",
         "False",
         "False",
         "False",
         "False",
         "False",
         "False",
         "True",
         "False",
         "False",
         "False",
         "False",
         "False",
         "False",
         "True",
         "False",
         "False",
         "False",
         "False",
         "False"
        ],
        [
         "2",
         "80",
         "7.4",
         "7.9",
         "2.4",
         "4.7",
         "0.1",
         "6984.33",
         "7.1",
         "5.84",
         "False",
         "False",
         "False",
         "False",
         "False",
         "False",
         "False",
         "False",
         "False",
         "False",
         "False",
         "False",
         "True",
         "False",
         "False",
         "False",
         "True",
         "False",
         "False",
         "True",
         "False",
         "False"
        ]
       ],
       "shape": {
        "columns": 31,
        "rows": 3
       }
      },
      "text/html": [
       "<div>\n",
       "<style scoped>\n",
       "    .dataframe tbody tr th:only-of-type {\n",
       "        vertical-align: middle;\n",
       "    }\n",
       "\n",
       "    .dataframe tbody tr th {\n",
       "        vertical-align: top;\n",
       "    }\n",
       "\n",
       "    .dataframe thead th {\n",
       "        text-align: right;\n",
       "    }\n",
       "</style>\n",
       "<table border=\"1\" class=\"dataframe\">\n",
       "  <thead>\n",
       "    <tr style=\"text-align: right;\">\n",
       "      <th></th>\n",
       "      <th>Age</th>\n",
       "      <th>Genetic_Risk</th>\n",
       "      <th>Air_Pollution</th>\n",
       "      <th>Alcohol_Use</th>\n",
       "      <th>Smoking</th>\n",
       "      <th>Obesity_Level</th>\n",
       "      <th>Treatment_Cost_USD</th>\n",
       "      <th>Survival_Years</th>\n",
       "      <th>Target_Severity_Score</th>\n",
       "      <th>Cancer_Type_Cervical</th>\n",
       "      <th>...</th>\n",
       "      <th>Country_Region_Pakistan</th>\n",
       "      <th>Country_Region_Russia</th>\n",
       "      <th>Country_Region_UK</th>\n",
       "      <th>Country_Region_USA</th>\n",
       "      <th>Gender_Male</th>\n",
       "      <th>Gender_Other</th>\n",
       "      <th>Cancer_Stage_Stage I</th>\n",
       "      <th>Cancer_Stage_Stage II</th>\n",
       "      <th>Cancer_Stage_Stage III</th>\n",
       "      <th>Cancer_Stage_Stage IV</th>\n",
       "    </tr>\n",
       "  </thead>\n",
       "  <tbody>\n",
       "    <tr>\n",
       "      <th>0</th>\n",
       "      <td>71</td>\n",
       "      <td>6.4</td>\n",
       "      <td>2.8</td>\n",
       "      <td>9.5</td>\n",
       "      <td>0.9</td>\n",
       "      <td>8.7</td>\n",
       "      <td>62913.44</td>\n",
       "      <td>5.9</td>\n",
       "      <td>4.92</td>\n",
       "      <td>False</td>\n",
       "      <td>...</td>\n",
       "      <td>False</td>\n",
       "      <td>False</td>\n",
       "      <td>True</td>\n",
       "      <td>False</td>\n",
       "      <td>True</td>\n",
       "      <td>False</td>\n",
       "      <td>False</td>\n",
       "      <td>False</td>\n",
       "      <td>True</td>\n",
       "      <td>False</td>\n",
       "    </tr>\n",
       "    <tr>\n",
       "      <th>1</th>\n",
       "      <td>34</td>\n",
       "      <td>1.3</td>\n",
       "      <td>4.5</td>\n",
       "      <td>3.7</td>\n",
       "      <td>3.9</td>\n",
       "      <td>6.3</td>\n",
       "      <td>12573.41</td>\n",
       "      <td>4.7</td>\n",
       "      <td>4.65</td>\n",
       "      <td>False</td>\n",
       "      <td>...</td>\n",
       "      <td>False</td>\n",
       "      <td>False</td>\n",
       "      <td>False</td>\n",
       "      <td>False</td>\n",
       "      <td>True</td>\n",
       "      <td>False</td>\n",
       "      <td>False</td>\n",
       "      <td>False</td>\n",
       "      <td>False</td>\n",
       "      <td>False</td>\n",
       "    </tr>\n",
       "    <tr>\n",
       "      <th>2</th>\n",
       "      <td>80</td>\n",
       "      <td>7.4</td>\n",
       "      <td>7.9</td>\n",
       "      <td>2.4</td>\n",
       "      <td>4.7</td>\n",
       "      <td>0.1</td>\n",
       "      <td>6984.33</td>\n",
       "      <td>7.1</td>\n",
       "      <td>5.84</td>\n",
       "      <td>False</td>\n",
       "      <td>...</td>\n",
       "      <td>True</td>\n",
       "      <td>False</td>\n",
       "      <td>False</td>\n",
       "      <td>False</td>\n",
       "      <td>True</td>\n",
       "      <td>False</td>\n",
       "      <td>False</td>\n",
       "      <td>True</td>\n",
       "      <td>False</td>\n",
       "      <td>False</td>\n",
       "    </tr>\n",
       "  </tbody>\n",
       "</table>\n",
       "<p>3 rows × 31 columns</p>\n",
       "</div>"
      ],
      "text/plain": [
       "   Age  Genetic_Risk  Air_Pollution  Alcohol_Use  Smoking  Obesity_Level  \\\n",
       "0   71           6.4            2.8          9.5      0.9            8.7   \n",
       "1   34           1.3            4.5          3.7      3.9            6.3   \n",
       "2   80           7.4            7.9          2.4      4.7            0.1   \n",
       "\n",
       "   Treatment_Cost_USD  Survival_Years  Target_Severity_Score  \\\n",
       "0            62913.44             5.9                   4.92   \n",
       "1            12573.41             4.7                   4.65   \n",
       "2             6984.33             7.1                   5.84   \n",
       "\n",
       "   Cancer_Type_Cervical  ...  Country_Region_Pakistan  Country_Region_Russia  \\\n",
       "0                 False  ...                    False                  False   \n",
       "1                 False  ...                    False                  False   \n",
       "2                 False  ...                     True                  False   \n",
       "\n",
       "   Country_Region_UK  Country_Region_USA  Gender_Male  Gender_Other  \\\n",
       "0               True               False         True         False   \n",
       "1              False               False         True         False   \n",
       "2              False               False         True         False   \n",
       "\n",
       "   Cancer_Stage_Stage I  Cancer_Stage_Stage II  Cancer_Stage_Stage III  \\\n",
       "0                 False                  False                    True   \n",
       "1                 False                  False                   False   \n",
       "2                 False                   True                   False   \n",
       "\n",
       "   Cancer_Stage_Stage IV  \n",
       "0                  False  \n",
       "1                  False  \n",
       "2                  False  \n",
       "\n",
       "[3 rows x 31 columns]"
      ]
     },
     "execution_count": 9,
     "metadata": {},
     "output_type": "execute_result"
    }
   ],
   "source": [
    "df.head(3)"
   ]
  },
  {
   "cell_type": "code",
   "execution_count": null,
   "id": "2c50692c-041f-4413-ac61-e2217450cbc2",
   "metadata": {},
   "outputs": [],
   "source": [
    "from sklearn.preprocessing import MinMaxScaler\n",
    "\n",
    "num_columns = df.select_dtypes(include=[\"float64\", \"int64\"])\n",
    "scalers = {}\n",
    "for col in num_columns:\n",
    "    scaler = MinMaxScaler()\n",
    "    df[col] = scaler.fit_transform(df[[col]])\n",
    "    scalers[col] = scaler"
   ]
  },
  {
   "cell_type": "code",
   "execution_count": null,
   "id": "b4a70202-72ed-4b9d-a0d1-11c147bdfb6d",
   "metadata": {},
   "outputs": [],
   "source": [
    "import torch\n",
    "import torch.nn as nn\n",
    "import torch.optim as optim\n",
    "from torch.utils.data import Dataset, DataLoader, random_split\n",
    "from sklearn.metrics import root_mean_squared_error, mean_absolute_error, r2_score\n",
    "from sklearn.model_selection import train_test_split\n",
    "import numpy as np\n",
    "from tqdm import tqdm"
   ]
  },
  {
   "cell_type": "code",
   "execution_count": null,
   "id": "ee0e5f55-ed48-4a51-bb87-63b1b4de495e",
   "metadata": {},
   "outputs": [],
   "source": [
    "X = df.drop(\"Target_Severity_Score\", axis=1)\n",
    "y = df[\"Target_Severity_Score\"]\n",
    "\n",
    "X_train, X_test, y_train, y_test = train_test_split(X, y, test_size=0.2, random_state=42)\n",
    "\n",
    "X_train = X_train.astype('float32')\n",
    "X_test  = X_test.astype('float32')\n",
    "y_train = y_train.astype('float32')\n",
    "y_test  = y_test.astype('float32')\n",
    "\n",
    "class CancerDataset(Dataset):\n",
    "    def __init__(self, x, y):\n",
    "        self.X = torch.tensor(x.values, dtype=torch.float32)\n",
    "        self.y = torch.tensor(y.values, dtype=torch.float32).view(-1, 1)\n",
    "    def __len__(self):\n",
    "        return len(self.X)\n",
    "    def __getitem__(self, idx):\n",
    "        return self.X[idx], self.y[idx]\n",
    "    \n",
    "train_dataset = CancerDataset(X_train, y_train)\n",
    "test_dataset = CancerDataset(X_test, y_test)\n",
    "\n",
    "train_loader = DataLoader(train_dataset, batch_size=256, shuffle=True)\n",
    "test_loader  = DataLoader(test_dataset, batch_size=256, shuffle=False)"
   ]
  },
  {
   "cell_type": "code",
   "execution_count": null,
   "id": "642428d0-ff6d-4001-9c43-0021138cb3a3",
   "metadata": {},
   "outputs": [],
   "source": [
    "class CancerMLP(nn.Module):\n",
    "    def __init__(self, input_size):\n",
    "        super(CancerMLP, self).__init__()\n",
    "        self.fc1 = nn.Linear(input_size, 128)\n",
    "        self.fc2 = nn.Linear(128, 64)\n",
    "        self.fc3 = nn.Linear(64, 32)\n",
    "        self.fc4 = nn.Linear(32, 1)\n",
    "        self.relu = nn.ReLU()\n",
    "    def forward(self, x):\n",
    "        x = self.relu(self.fc1(x))\n",
    "        x = self.relu(self.fc2(x))\n",
    "        x = self.relu(self.fc3(x))\n",
    "        x = self.fc4(x)\n",
    "\n",
    "        return x"
   ]
  },
  {
   "cell_type": "code",
   "execution_count": null,
   "id": "e9d72e74-307f-46a1-839d-c3abd935fe03",
   "metadata": {},
   "outputs": [],
   "source": [
    "model = CancerMLP(input_size=df.shape[1]-1).to(\"cuda\")\n",
    "criterion = nn.MSELoss()\n",
    "optimizer = optim.SGD(model.parameters(), lr=1e-2, weight_decay=5e-4, momentum=0.9)\n",
    "scheduler = optim.lr_scheduler.ReduceLROnPlateau(optimizer, mode=\"min\", factor=0.1, patience=5)"
   ]
  },
  {
   "cell_type": "code",
   "execution_count": null,
   "id": "a6fdb86f-6a73-4acd-8425-fef61bfee68b",
   "metadata": {},
   "outputs": [
    {
     "data": {
      "text/html": [
       "<style>#sk-container-id-1 {\n",
       "  /* Definition of color scheme common for light and dark mode */\n",
       "  --sklearn-color-text: #000;\n",
       "  --sklearn-color-text-muted: #666;\n",
       "  --sklearn-color-line: gray;\n",
       "  /* Definition of color scheme for unfitted estimators */\n",
       "  --sklearn-color-unfitted-level-0: #fff5e6;\n",
       "  --sklearn-color-unfitted-level-1: #f6e4d2;\n",
       "  --sklearn-color-unfitted-level-2: #ffe0b3;\n",
       "  --sklearn-color-unfitted-level-3: chocolate;\n",
       "  /* Definition of color scheme for fitted estimators */\n",
       "  --sklearn-color-fitted-level-0: #f0f8ff;\n",
       "  --sklearn-color-fitted-level-1: #d4ebff;\n",
       "  --sklearn-color-fitted-level-2: #b3dbfd;\n",
       "  --sklearn-color-fitted-level-3: cornflowerblue;\n",
       "\n",
       "  /* Specific color for light theme */\n",
       "  --sklearn-color-text-on-default-background: var(--sg-text-color, var(--theme-code-foreground, var(--jp-content-font-color1, black)));\n",
       "  --sklearn-color-background: var(--sg-background-color, var(--theme-background, var(--jp-layout-color0, white)));\n",
       "  --sklearn-color-border-box: var(--sg-text-color, var(--theme-code-foreground, var(--jp-content-font-color1, black)));\n",
       "  --sklearn-color-icon: #696969;\n",
       "\n",
       "  @media (prefers-color-scheme: dark) {\n",
       "    /* Redefinition of color scheme for dark theme */\n",
       "    --sklearn-color-text-on-default-background: var(--sg-text-color, var(--theme-code-foreground, var(--jp-content-font-color1, white)));\n",
       "    --sklearn-color-background: var(--sg-background-color, var(--theme-background, var(--jp-layout-color0, #111)));\n",
       "    --sklearn-color-border-box: var(--sg-text-color, var(--theme-code-foreground, var(--jp-content-font-color1, white)));\n",
       "    --sklearn-color-icon: #878787;\n",
       "  }\n",
       "}\n",
       "\n",
       "#sk-container-id-1 {\n",
       "  color: var(--sklearn-color-text);\n",
       "}\n",
       "\n",
       "#sk-container-id-1 pre {\n",
       "  padding: 0;\n",
       "}\n",
       "\n",
       "#sk-container-id-1 input.sk-hidden--visually {\n",
       "  border: 0;\n",
       "  clip: rect(1px 1px 1px 1px);\n",
       "  clip: rect(1px, 1px, 1px, 1px);\n",
       "  height: 1px;\n",
       "  margin: -1px;\n",
       "  overflow: hidden;\n",
       "  padding: 0;\n",
       "  position: absolute;\n",
       "  width: 1px;\n",
       "}\n",
       "\n",
       "#sk-container-id-1 div.sk-dashed-wrapped {\n",
       "  border: 1px dashed var(--sklearn-color-line);\n",
       "  margin: 0 0.4em 0.5em 0.4em;\n",
       "  box-sizing: border-box;\n",
       "  padding-bottom: 0.4em;\n",
       "  background-color: var(--sklearn-color-background);\n",
       "}\n",
       "\n",
       "#sk-container-id-1 div.sk-container {\n",
       "  /* jupyter's `normalize.less` sets `[hidden] { display: none; }`\n",
       "     but bootstrap.min.css set `[hidden] { display: none !important; }`\n",
       "     so we also need the `!important` here to be able to override the\n",
       "     default hidden behavior on the sphinx rendered scikit-learn.org.\n",
       "     See: https://github.com/scikit-learn/scikit-learn/issues/21755 */\n",
       "  display: inline-block !important;\n",
       "  position: relative;\n",
       "}\n",
       "\n",
       "#sk-container-id-1 div.sk-text-repr-fallback {\n",
       "  display: none;\n",
       "}\n",
       "\n",
       "div.sk-parallel-item,\n",
       "div.sk-serial,\n",
       "div.sk-item {\n",
       "  /* draw centered vertical line to link estimators */\n",
       "  background-image: linear-gradient(var(--sklearn-color-text-on-default-background), var(--sklearn-color-text-on-default-background));\n",
       "  background-size: 2px 100%;\n",
       "  background-repeat: no-repeat;\n",
       "  background-position: center center;\n",
       "}\n",
       "\n",
       "/* Parallel-specific style estimator block */\n",
       "\n",
       "#sk-container-id-1 div.sk-parallel-item::after {\n",
       "  content: \"\";\n",
       "  width: 100%;\n",
       "  border-bottom: 2px solid var(--sklearn-color-text-on-default-background);\n",
       "  flex-grow: 1;\n",
       "}\n",
       "\n",
       "#sk-container-id-1 div.sk-parallel {\n",
       "  display: flex;\n",
       "  align-items: stretch;\n",
       "  justify-content: center;\n",
       "  background-color: var(--sklearn-color-background);\n",
       "  position: relative;\n",
       "}\n",
       "\n",
       "#sk-container-id-1 div.sk-parallel-item {\n",
       "  display: flex;\n",
       "  flex-direction: column;\n",
       "}\n",
       "\n",
       "#sk-container-id-1 div.sk-parallel-item:first-child::after {\n",
       "  align-self: flex-end;\n",
       "  width: 50%;\n",
       "}\n",
       "\n",
       "#sk-container-id-1 div.sk-parallel-item:last-child::after {\n",
       "  align-self: flex-start;\n",
       "  width: 50%;\n",
       "}\n",
       "\n",
       "#sk-container-id-1 div.sk-parallel-item:only-child::after {\n",
       "  width: 0;\n",
       "}\n",
       "\n",
       "/* Serial-specific style estimator block */\n",
       "\n",
       "#sk-container-id-1 div.sk-serial {\n",
       "  display: flex;\n",
       "  flex-direction: column;\n",
       "  align-items: center;\n",
       "  background-color: var(--sklearn-color-background);\n",
       "  padding-right: 1em;\n",
       "  padding-left: 1em;\n",
       "}\n",
       "\n",
       "\n",
       "/* Toggleable style: style used for estimator/Pipeline/ColumnTransformer box that is\n",
       "clickable and can be expanded/collapsed.\n",
       "- Pipeline and ColumnTransformer use this feature and define the default style\n",
       "- Estimators will overwrite some part of the style using the `sk-estimator` class\n",
       "*/\n",
       "\n",
       "/* Pipeline and ColumnTransformer style (default) */\n",
       "\n",
       "#sk-container-id-1 div.sk-toggleable {\n",
       "  /* Default theme specific background. It is overwritten whether we have a\n",
       "  specific estimator or a Pipeline/ColumnTransformer */\n",
       "  background-color: var(--sklearn-color-background);\n",
       "}\n",
       "\n",
       "/* Toggleable label */\n",
       "#sk-container-id-1 label.sk-toggleable__label {\n",
       "  cursor: pointer;\n",
       "  display: flex;\n",
       "  width: 100%;\n",
       "  margin-bottom: 0;\n",
       "  padding: 0.5em;\n",
       "  box-sizing: border-box;\n",
       "  text-align: center;\n",
       "  align-items: start;\n",
       "  justify-content: space-between;\n",
       "  gap: 0.5em;\n",
       "}\n",
       "\n",
       "#sk-container-id-1 label.sk-toggleable__label .caption {\n",
       "  font-size: 0.6rem;\n",
       "  font-weight: lighter;\n",
       "  color: var(--sklearn-color-text-muted);\n",
       "}\n",
       "\n",
       "#sk-container-id-1 label.sk-toggleable__label-arrow:before {\n",
       "  /* Arrow on the left of the label */\n",
       "  content: \"▸\";\n",
       "  float: left;\n",
       "  margin-right: 0.25em;\n",
       "  color: var(--sklearn-color-icon);\n",
       "}\n",
       "\n",
       "#sk-container-id-1 label.sk-toggleable__label-arrow:hover:before {\n",
       "  color: var(--sklearn-color-text);\n",
       "}\n",
       "\n",
       "/* Toggleable content - dropdown */\n",
       "\n",
       "#sk-container-id-1 div.sk-toggleable__content {\n",
       "  max-height: 0;\n",
       "  max-width: 0;\n",
       "  overflow: hidden;\n",
       "  text-align: left;\n",
       "  /* unfitted */\n",
       "  background-color: var(--sklearn-color-unfitted-level-0);\n",
       "}\n",
       "\n",
       "#sk-container-id-1 div.sk-toggleable__content.fitted {\n",
       "  /* fitted */\n",
       "  background-color: var(--sklearn-color-fitted-level-0);\n",
       "}\n",
       "\n",
       "#sk-container-id-1 div.sk-toggleable__content pre {\n",
       "  margin: 0.2em;\n",
       "  border-radius: 0.25em;\n",
       "  color: var(--sklearn-color-text);\n",
       "  /* unfitted */\n",
       "  background-color: var(--sklearn-color-unfitted-level-0);\n",
       "}\n",
       "\n",
       "#sk-container-id-1 div.sk-toggleable__content.fitted pre {\n",
       "  /* unfitted */\n",
       "  background-color: var(--sklearn-color-fitted-level-0);\n",
       "}\n",
       "\n",
       "#sk-container-id-1 input.sk-toggleable__control:checked~div.sk-toggleable__content {\n",
       "  /* Expand drop-down */\n",
       "  max-height: 200px;\n",
       "  max-width: 100%;\n",
       "  overflow: auto;\n",
       "}\n",
       "\n",
       "#sk-container-id-1 input.sk-toggleable__control:checked~label.sk-toggleable__label-arrow:before {\n",
       "  content: \"▾\";\n",
       "}\n",
       "\n",
       "/* Pipeline/ColumnTransformer-specific style */\n",
       "\n",
       "#sk-container-id-1 div.sk-label input.sk-toggleable__control:checked~label.sk-toggleable__label {\n",
       "  color: var(--sklearn-color-text);\n",
       "  background-color: var(--sklearn-color-unfitted-level-2);\n",
       "}\n",
       "\n",
       "#sk-container-id-1 div.sk-label.fitted input.sk-toggleable__control:checked~label.sk-toggleable__label {\n",
       "  background-color: var(--sklearn-color-fitted-level-2);\n",
       "}\n",
       "\n",
       "/* Estimator-specific style */\n",
       "\n",
       "/* Colorize estimator box */\n",
       "#sk-container-id-1 div.sk-estimator input.sk-toggleable__control:checked~label.sk-toggleable__label {\n",
       "  /* unfitted */\n",
       "  background-color: var(--sklearn-color-unfitted-level-2);\n",
       "}\n",
       "\n",
       "#sk-container-id-1 div.sk-estimator.fitted input.sk-toggleable__control:checked~label.sk-toggleable__label {\n",
       "  /* fitted */\n",
       "  background-color: var(--sklearn-color-fitted-level-2);\n",
       "}\n",
       "\n",
       "#sk-container-id-1 div.sk-label label.sk-toggleable__label,\n",
       "#sk-container-id-1 div.sk-label label {\n",
       "  /* The background is the default theme color */\n",
       "  color: var(--sklearn-color-text-on-default-background);\n",
       "}\n",
       "\n",
       "/* On hover, darken the color of the background */\n",
       "#sk-container-id-1 div.sk-label:hover label.sk-toggleable__label {\n",
       "  color: var(--sklearn-color-text);\n",
       "  background-color: var(--sklearn-color-unfitted-level-2);\n",
       "}\n",
       "\n",
       "/* Label box, darken color on hover, fitted */\n",
       "#sk-container-id-1 div.sk-label.fitted:hover label.sk-toggleable__label.fitted {\n",
       "  color: var(--sklearn-color-text);\n",
       "  background-color: var(--sklearn-color-fitted-level-2);\n",
       "}\n",
       "\n",
       "/* Estimator label */\n",
       "\n",
       "#sk-container-id-1 div.sk-label label {\n",
       "  font-family: monospace;\n",
       "  font-weight: bold;\n",
       "  display: inline-block;\n",
       "  line-height: 1.2em;\n",
       "}\n",
       "\n",
       "#sk-container-id-1 div.sk-label-container {\n",
       "  text-align: center;\n",
       "}\n",
       "\n",
       "/* Estimator-specific */\n",
       "#sk-container-id-1 div.sk-estimator {\n",
       "  font-family: monospace;\n",
       "  border: 1px dotted var(--sklearn-color-border-box);\n",
       "  border-radius: 0.25em;\n",
       "  box-sizing: border-box;\n",
       "  margin-bottom: 0.5em;\n",
       "  /* unfitted */\n",
       "  background-color: var(--sklearn-color-unfitted-level-0);\n",
       "}\n",
       "\n",
       "#sk-container-id-1 div.sk-estimator.fitted {\n",
       "  /* fitted */\n",
       "  background-color: var(--sklearn-color-fitted-level-0);\n",
       "}\n",
       "\n",
       "/* on hover */\n",
       "#sk-container-id-1 div.sk-estimator:hover {\n",
       "  /* unfitted */\n",
       "  background-color: var(--sklearn-color-unfitted-level-2);\n",
       "}\n",
       "\n",
       "#sk-container-id-1 div.sk-estimator.fitted:hover {\n",
       "  /* fitted */\n",
       "  background-color: var(--sklearn-color-fitted-level-2);\n",
       "}\n",
       "\n",
       "/* Specification for estimator info (e.g. \"i\" and \"?\") */\n",
       "\n",
       "/* Common style for \"i\" and \"?\" */\n",
       "\n",
       ".sk-estimator-doc-link,\n",
       "a:link.sk-estimator-doc-link,\n",
       "a:visited.sk-estimator-doc-link {\n",
       "  float: right;\n",
       "  font-size: smaller;\n",
       "  line-height: 1em;\n",
       "  font-family: monospace;\n",
       "  background-color: var(--sklearn-color-background);\n",
       "  border-radius: 1em;\n",
       "  height: 1em;\n",
       "  width: 1em;\n",
       "  text-decoration: none !important;\n",
       "  margin-left: 0.5em;\n",
       "  text-align: center;\n",
       "  /* unfitted */\n",
       "  border: var(--sklearn-color-unfitted-level-1) 1pt solid;\n",
       "  color: var(--sklearn-color-unfitted-level-1);\n",
       "}\n",
       "\n",
       ".sk-estimator-doc-link.fitted,\n",
       "a:link.sk-estimator-doc-link.fitted,\n",
       "a:visited.sk-estimator-doc-link.fitted {\n",
       "  /* fitted */\n",
       "  border: var(--sklearn-color-fitted-level-1) 1pt solid;\n",
       "  color: var(--sklearn-color-fitted-level-1);\n",
       "}\n",
       "\n",
       "/* On hover */\n",
       "div.sk-estimator:hover .sk-estimator-doc-link:hover,\n",
       ".sk-estimator-doc-link:hover,\n",
       "div.sk-label-container:hover .sk-estimator-doc-link:hover,\n",
       ".sk-estimator-doc-link:hover {\n",
       "  /* unfitted */\n",
       "  background-color: var(--sklearn-color-unfitted-level-3);\n",
       "  color: var(--sklearn-color-background);\n",
       "  text-decoration: none;\n",
       "}\n",
       "\n",
       "div.sk-estimator.fitted:hover .sk-estimator-doc-link.fitted:hover,\n",
       ".sk-estimator-doc-link.fitted:hover,\n",
       "div.sk-label-container:hover .sk-estimator-doc-link.fitted:hover,\n",
       ".sk-estimator-doc-link.fitted:hover {\n",
       "  /* fitted */\n",
       "  background-color: var(--sklearn-color-fitted-level-3);\n",
       "  color: var(--sklearn-color-background);\n",
       "  text-decoration: none;\n",
       "}\n",
       "\n",
       "/* Span, style for the box shown on hovering the info icon */\n",
       ".sk-estimator-doc-link span {\n",
       "  display: none;\n",
       "  z-index: 9999;\n",
       "  position: relative;\n",
       "  font-weight: normal;\n",
       "  right: .2ex;\n",
       "  padding: .5ex;\n",
       "  margin: .5ex;\n",
       "  width: min-content;\n",
       "  min-width: 20ex;\n",
       "  max-width: 50ex;\n",
       "  color: var(--sklearn-color-text);\n",
       "  box-shadow: 2pt 2pt 4pt #999;\n",
       "  /* unfitted */\n",
       "  background: var(--sklearn-color-unfitted-level-0);\n",
       "  border: .5pt solid var(--sklearn-color-unfitted-level-3);\n",
       "}\n",
       "\n",
       ".sk-estimator-doc-link.fitted span {\n",
       "  /* fitted */\n",
       "  background: var(--sklearn-color-fitted-level-0);\n",
       "  border: var(--sklearn-color-fitted-level-3);\n",
       "}\n",
       "\n",
       ".sk-estimator-doc-link:hover span {\n",
       "  display: block;\n",
       "}\n",
       "\n",
       "/* \"?\"-specific style due to the `<a>` HTML tag */\n",
       "\n",
       "#sk-container-id-1 a.estimator_doc_link {\n",
       "  float: right;\n",
       "  font-size: 1rem;\n",
       "  line-height: 1em;\n",
       "  font-family: monospace;\n",
       "  background-color: var(--sklearn-color-background);\n",
       "  border-radius: 1rem;\n",
       "  height: 1rem;\n",
       "  width: 1rem;\n",
       "  text-decoration: none;\n",
       "  /* unfitted */\n",
       "  color: var(--sklearn-color-unfitted-level-1);\n",
       "  border: var(--sklearn-color-unfitted-level-1) 1pt solid;\n",
       "}\n",
       "\n",
       "#sk-container-id-1 a.estimator_doc_link.fitted {\n",
       "  /* fitted */\n",
       "  border: var(--sklearn-color-fitted-level-1) 1pt solid;\n",
       "  color: var(--sklearn-color-fitted-level-1);\n",
       "}\n",
       "\n",
       "/* On hover */\n",
       "#sk-container-id-1 a.estimator_doc_link:hover {\n",
       "  /* unfitted */\n",
       "  background-color: var(--sklearn-color-unfitted-level-3);\n",
       "  color: var(--sklearn-color-background);\n",
       "  text-decoration: none;\n",
       "}\n",
       "\n",
       "#sk-container-id-1 a.estimator_doc_link.fitted:hover {\n",
       "  /* fitted */\n",
       "  background-color: var(--sklearn-color-fitted-level-3);\n",
       "}\n",
       "</style><div id=\"sk-container-id-1\" class=\"sk-top-container\"><div class=\"sk-text-repr-fallback\"><pre>XGBRegressor(base_score=None, booster=None, callbacks=None,\n",
       "             colsample_bylevel=None, colsample_bynode=None,\n",
       "             colsample_bytree=None, device=None, early_stopping_rounds=None,\n",
       "             enable_categorical=False, eval_metric=None, feature_types=None,\n",
       "             feature_weights=None, gamma=None, grow_policy=None,\n",
       "             importance_type=None, interaction_constraints=None,\n",
       "             learning_rate=None, max_bin=None, max_cat_threshold=None,\n",
       "             max_cat_to_onehot=None, max_delta_step=None, max_depth=None,\n",
       "             max_leaves=None, min_child_weight=None, missing=nan,\n",
       "             monotone_constraints=None, multi_strategy=None, n_estimators=None,\n",
       "             n_jobs=None, num_parallel_tree=None, ...)</pre><b>In a Jupyter environment, please rerun this cell to show the HTML representation or trust the notebook. <br />On GitHub, the HTML representation is unable to render, please try loading this page with nbviewer.org.</b></div><div class=\"sk-container\" hidden><div class=\"sk-item\"><div class=\"sk-estimator fitted sk-toggleable\"><input class=\"sk-toggleable__control sk-hidden--visually\" id=\"sk-estimator-id-1\" type=\"checkbox\" checked><label for=\"sk-estimator-id-1\" class=\"sk-toggleable__label fitted sk-toggleable__label-arrow\"><div><div>XGBRegressor</div></div><div><a class=\"sk-estimator-doc-link fitted\" rel=\"noreferrer\" target=\"_blank\" href=\"https://xgboost.readthedocs.io/en/release_3.0.0/python/python_api.html#xgboost.XGBRegressor\">?<span>Documentation for XGBRegressor</span></a><span class=\"sk-estimator-doc-link fitted\">i<span>Fitted</span></span></div></label><div class=\"sk-toggleable__content fitted\"><pre>XGBRegressor(base_score=None, booster=None, callbacks=None,\n",
       "             colsample_bylevel=None, colsample_bynode=None,\n",
       "             colsample_bytree=None, device=None, early_stopping_rounds=None,\n",
       "             enable_categorical=False, eval_metric=None, feature_types=None,\n",
       "             feature_weights=None, gamma=None, grow_policy=None,\n",
       "             importance_type=None, interaction_constraints=None,\n",
       "             learning_rate=None, max_bin=None, max_cat_threshold=None,\n",
       "             max_cat_to_onehot=None, max_delta_step=None, max_depth=None,\n",
       "             max_leaves=None, min_child_weight=None, missing=nan,\n",
       "             monotone_constraints=None, multi_strategy=None, n_estimators=None,\n",
       "             n_jobs=None, num_parallel_tree=None, ...)</pre></div> </div></div></div></div>"
      ],
      "text/plain": [
       "XGBRegressor(base_score=None, booster=None, callbacks=None,\n",
       "             colsample_bylevel=None, colsample_bynode=None,\n",
       "             colsample_bytree=None, device=None, early_stopping_rounds=None,\n",
       "             enable_categorical=False, eval_metric=None, feature_types=None,\n",
       "             feature_weights=None, gamma=None, grow_policy=None,\n",
       "             importance_type=None, interaction_constraints=None,\n",
       "             learning_rate=None, max_bin=None, max_cat_threshold=None,\n",
       "             max_cat_to_onehot=None, max_delta_step=None, max_depth=None,\n",
       "             max_leaves=None, min_child_weight=None, missing=nan,\n",
       "             monotone_constraints=None, multi_strategy=None, n_estimators=None,\n",
       "             n_jobs=None, num_parallel_tree=None, ...)"
      ]
     },
     "execution_count": 15,
     "metadata": {},
     "output_type": "execute_result"
    }
   ],
   "source": [
    "from xgboost import XGBRegressor\n",
    "model_xgb = XGBRegressor()\n",
    "model_xgb.fit(X_train, y_train)"
   ]
  },
  {
   "cell_type": "code",
   "execution_count": null,
   "id": "de5241a4-7d1a-4354-9c6f-8d6ea33253e6",
   "metadata": {},
   "outputs": [
    {
     "name": "stderr",
     "output_type": "stream",
     "text": [
      "Train model: 100%|██████████| 157/157 [00:00<00:00, 215.86it/s]\n",
      "Eval: 100%|██████████| 40/40 [00:00<00:00, 614.67it/s]\n"
     ]
    },
    {
     "name": "stdout",
     "output_type": "stream",
     "text": [
      "  Epoch 1/50\n",
      "  Train Loss: 0.0276\n",
      "  Val   Loss: 0.0177\n",
      "  LR: 0.010000\n"
     ]
    },
    {
     "name": "stderr",
     "output_type": "stream",
     "text": [
      "Train model: 100%|██████████| 157/157 [00:00<00:00, 419.17it/s]\n",
      "Eval: 100%|██████████| 40/40 [00:00<00:00, 797.08it/s]\n"
     ]
    },
    {
     "name": "stdout",
     "output_type": "stream",
     "text": [
      "  Epoch 2/50\n",
      "  Train Loss: 0.0150\n",
      "  Val   Loss: 0.0107\n",
      "  LR: 0.010000\n"
     ]
    },
    {
     "name": "stderr",
     "output_type": "stream",
     "text": [
      "Train model: 100%|██████████| 157/157 [00:00<00:00, 551.35it/s]\n",
      "Eval: 100%|██████████| 40/40 [00:00<00:00, 937.29it/s]\n"
     ]
    },
    {
     "name": "stdout",
     "output_type": "stream",
     "text": [
      "  Epoch 3/50\n",
      "  Train Loss: 0.0060\n",
      "  Val   Loss: 0.0020\n",
      "  LR: 0.010000\n"
     ]
    },
    {
     "name": "stderr",
     "output_type": "stream",
     "text": [
      "Train model: 100%|██████████| 157/157 [00:00<00:00, 500.12it/s]\n",
      "Eval: 100%|██████████| 40/40 [00:00<00:00, 1021.88it/s]\n"
     ]
    },
    {
     "name": "stdout",
     "output_type": "stream",
     "text": [
      "  Epoch 4/50\n",
      "  Train Loss: 0.0010\n",
      "  Val   Loss: 0.0006\n",
      "  LR: 0.010000\n"
     ]
    },
    {
     "name": "stderr",
     "output_type": "stream",
     "text": [
      "Train model: 100%|██████████| 157/157 [00:00<00:00, 536.14it/s]\n",
      "Eval: 100%|██████████| 40/40 [00:00<00:00, 925.37it/s]\n"
     ]
    },
    {
     "name": "stdout",
     "output_type": "stream",
     "text": [
      "  Epoch 5/50\n",
      "  Train Loss: 0.0005\n",
      "  Val   Loss: 0.0004\n",
      "  LR: 0.010000\n"
     ]
    },
    {
     "name": "stderr",
     "output_type": "stream",
     "text": [
      "Train model: 100%|██████████| 157/157 [00:00<00:00, 546.75it/s]\n",
      "Eval: 100%|██████████| 40/40 [00:00<00:00, 1021.65it/s]\n"
     ]
    },
    {
     "name": "stdout",
     "output_type": "stream",
     "text": [
      "  Epoch 6/50\n",
      "  Train Loss: 0.0004\n",
      "  Val   Loss: 0.0003\n",
      "  LR: 0.010000\n"
     ]
    },
    {
     "name": "stderr",
     "output_type": "stream",
     "text": [
      "Train model: 100%|██████████| 157/157 [00:00<00:00, 405.98it/s]\n",
      "Eval: 100%|██████████| 40/40 [00:00<00:00, 999.57it/s]\n"
     ]
    },
    {
     "name": "stdout",
     "output_type": "stream",
     "text": [
      "  Epoch 7/50\n",
      "  Train Loss: 0.0003\n",
      "  Val   Loss: 0.0003\n",
      "  LR: 0.010000\n"
     ]
    },
    {
     "name": "stderr",
     "output_type": "stream",
     "text": [
      "Train model: 100%|██████████| 157/157 [00:00<00:00, 489.05it/s]\n",
      "Eval: 100%|██████████| 40/40 [00:00<00:00, 874.35it/s]\n"
     ]
    },
    {
     "name": "stdout",
     "output_type": "stream",
     "text": [
      "  Epoch 8/50\n",
      "  Train Loss: 0.0003\n",
      "  Val   Loss: 0.0002\n",
      "  LR: 0.010000\n"
     ]
    },
    {
     "name": "stderr",
     "output_type": "stream",
     "text": [
      "Train model: 100%|██████████| 157/157 [00:00<00:00, 426.81it/s]\n",
      "Eval: 100%|██████████| 40/40 [00:00<00:00, 842.37it/s]\n"
     ]
    },
    {
     "name": "stdout",
     "output_type": "stream",
     "text": [
      "  Epoch 9/50\n",
      "  Train Loss: 0.0002\n",
      "  Val   Loss: 0.0002\n",
      "  LR: 0.010000\n"
     ]
    },
    {
     "name": "stderr",
     "output_type": "stream",
     "text": [
      "Train model: 100%|██████████| 157/157 [00:00<00:00, 396.39it/s]\n",
      "Eval: 100%|██████████| 40/40 [00:00<00:00, 674.37it/s]\n"
     ]
    },
    {
     "name": "stdout",
     "output_type": "stream",
     "text": [
      "  Epoch 10/50\n",
      "  Train Loss: 0.0002\n",
      "  Val   Loss: 0.0002\n",
      "  LR: 0.010000\n"
     ]
    },
    {
     "name": "stderr",
     "output_type": "stream",
     "text": [
      "Train model: 100%|██████████| 157/157 [00:00<00:00, 335.97it/s]\n",
      "Eval: 100%|██████████| 40/40 [00:00<00:00, 500.30it/s]\n"
     ]
    },
    {
     "name": "stdout",
     "output_type": "stream",
     "text": [
      "  Epoch 11/50\n",
      "  Train Loss: 0.0002\n",
      "  Val   Loss: 0.0002\n",
      "  LR: 0.010000\n"
     ]
    },
    {
     "name": "stderr",
     "output_type": "stream",
     "text": [
      "Train model: 100%|██████████| 157/157 [00:00<00:00, 327.55it/s]\n",
      "Eval: 100%|██████████| 40/40 [00:00<00:00, 500.60it/s]\n"
     ]
    },
    {
     "name": "stdout",
     "output_type": "stream",
     "text": [
      "  Epoch 12/50\n",
      "  Train Loss: 0.0002\n",
      "  Val   Loss: 0.0002\n",
      "  LR: 0.010000\n"
     ]
    },
    {
     "name": "stderr",
     "output_type": "stream",
     "text": [
      "Train model: 100%|██████████| 157/157 [00:00<00:00, 243.22it/s]\n",
      "Eval: 100%|██████████| 40/40 [00:00<00:00, 429.37it/s]\n"
     ]
    },
    {
     "name": "stdout",
     "output_type": "stream",
     "text": [
      "  Epoch 13/50\n",
      "  Train Loss: 0.0002\n",
      "  Val   Loss: 0.0002\n",
      "  LR: 0.010000\n"
     ]
    },
    {
     "name": "stderr",
     "output_type": "stream",
     "text": [
      "Train model: 100%|██████████| 157/157 [00:00<00:00, 261.99it/s]\n",
      "Eval: 100%|██████████| 40/40 [00:00<00:00, 393.55it/s]\n"
     ]
    },
    {
     "name": "stdout",
     "output_type": "stream",
     "text": [
      "  Epoch 14/50\n",
      "  Train Loss: 0.0002\n",
      "  Val   Loss: 0.0001\n",
      "  LR: 0.010000\n"
     ]
    },
    {
     "name": "stderr",
     "output_type": "stream",
     "text": [
      "Train model: 100%|██████████| 157/157 [00:00<00:00, 319.79it/s]\n",
      "Eval: 100%|██████████| 40/40 [00:00<00:00, 400.87it/s]\n"
     ]
    },
    {
     "name": "stdout",
     "output_type": "stream",
     "text": [
      "  Epoch 15/50\n",
      "  Train Loss: 0.0001\n",
      "  Val   Loss: 0.0001\n",
      "  LR: 0.010000\n"
     ]
    },
    {
     "name": "stderr",
     "output_type": "stream",
     "text": [
      "Train model: 100%|██████████| 157/157 [00:00<00:00, 327.68it/s]\n",
      "Eval: 100%|██████████| 40/40 [00:00<00:00, 420.76it/s]\n"
     ]
    },
    {
     "name": "stdout",
     "output_type": "stream",
     "text": [
      "  Epoch 16/50\n",
      "  Train Loss: 0.0001\n",
      "  Val   Loss: 0.0001\n",
      "  LR: 0.010000\n"
     ]
    },
    {
     "name": "stderr",
     "output_type": "stream",
     "text": [
      "Train model: 100%|██████████| 157/157 [00:00<00:00, 327.14it/s]\n",
      "Eval: 100%|██████████| 40/40 [00:00<00:00, 550.62it/s]\n"
     ]
    },
    {
     "name": "stdout",
     "output_type": "stream",
     "text": [
      "  Epoch 17/50\n",
      "  Train Loss: 0.0001\n",
      "  Val   Loss: 0.0001\n",
      "  LR: 0.010000\n"
     ]
    },
    {
     "name": "stderr",
     "output_type": "stream",
     "text": [
      "Train model: 100%|██████████| 157/157 [00:00<00:00, 274.02it/s]\n",
      "Eval: 100%|██████████| 40/40 [00:00<00:00, 499.00it/s]\n"
     ]
    },
    {
     "name": "stdout",
     "output_type": "stream",
     "text": [
      "  Epoch 18/50\n",
      "  Train Loss: 0.0001\n",
      "  Val   Loss: 0.0001\n",
      "  LR: 0.010000\n"
     ]
    },
    {
     "name": "stderr",
     "output_type": "stream",
     "text": [
      "Train model: 100%|██████████| 157/157 [00:00<00:00, 226.45it/s]\n",
      "Eval: 100%|██████████| 40/40 [00:00<00:00, 509.95it/s]\n"
     ]
    },
    {
     "name": "stdout",
     "output_type": "stream",
     "text": [
      "  Epoch 19/50\n",
      "  Train Loss: 0.0001\n",
      "  Val   Loss: 0.0001\n",
      "  LR: 0.010000\n"
     ]
    },
    {
     "name": "stderr",
     "output_type": "stream",
     "text": [
      "Train model: 100%|██████████| 157/157 [00:00<00:00, 268.58it/s]\n",
      "Eval: 100%|██████████| 40/40 [00:00<00:00, 436.23it/s]\n"
     ]
    },
    {
     "name": "stdout",
     "output_type": "stream",
     "text": [
      "  Epoch 20/50\n",
      "  Train Loss: 0.0001\n",
      "  Val   Loss: 0.0001\n",
      "  LR: 0.010000\n"
     ]
    },
    {
     "name": "stderr",
     "output_type": "stream",
     "text": [
      "Train model: 100%|██████████| 157/157 [00:00<00:00, 218.98it/s]\n",
      "Eval: 100%|██████████| 40/40 [00:00<00:00, 450.57it/s]\n"
     ]
    },
    {
     "name": "stdout",
     "output_type": "stream",
     "text": [
      "  Epoch 21/50\n",
      "  Train Loss: 0.0001\n",
      "  Val   Loss: 0.0001\n",
      "  LR: 0.010000\n"
     ]
    },
    {
     "name": "stderr",
     "output_type": "stream",
     "text": [
      "Train model: 100%|██████████| 157/157 [00:00<00:00, 292.57it/s]\n",
      "Eval: 100%|██████████| 40/40 [00:00<00:00, 436.02it/s]\n"
     ]
    },
    {
     "name": "stdout",
     "output_type": "stream",
     "text": [
      "  Epoch 22/50\n",
      "  Train Loss: 0.0001\n",
      "  Val   Loss: 0.0001\n",
      "  LR: 0.010000\n"
     ]
    },
    {
     "name": "stderr",
     "output_type": "stream",
     "text": [
      "Train model: 100%|██████████| 157/157 [00:00<00:00, 263.05it/s]\n",
      "Eval: 100%|██████████| 40/40 [00:00<00:00, 527.87it/s]\n"
     ]
    },
    {
     "name": "stdout",
     "output_type": "stream",
     "text": [
      "  Epoch 23/50\n",
      "  Train Loss: 0.0001\n",
      "  Val   Loss: 0.0001\n",
      "  LR: 0.010000\n"
     ]
    },
    {
     "name": "stderr",
     "output_type": "stream",
     "text": [
      "Train model: 100%|██████████| 157/157 [00:00<00:00, 321.00it/s]\n",
      "Eval: 100%|██████████| 40/40 [00:00<00:00, 449.89it/s]\n"
     ]
    },
    {
     "name": "stdout",
     "output_type": "stream",
     "text": [
      "  Epoch 24/50\n",
      "  Train Loss: 0.0001\n",
      "  Val   Loss: 0.0001\n",
      "  LR: 0.010000\n"
     ]
    },
    {
     "name": "stderr",
     "output_type": "stream",
     "text": [
      "Train model: 100%|██████████| 157/157 [00:00<00:00, 228.25it/s]\n",
      "Eval: 100%|██████████| 40/40 [00:00<00:00, 361.22it/s]\n"
     ]
    },
    {
     "name": "stdout",
     "output_type": "stream",
     "text": [
      "  Epoch 25/50\n",
      "  Train Loss: 0.0001\n",
      "  Val   Loss: 0.0001\n",
      "  LR: 0.010000\n"
     ]
    },
    {
     "name": "stderr",
     "output_type": "stream",
     "text": [
      "Train model: 100%|██████████| 157/157 [00:00<00:00, 292.87it/s]\n",
      "Eval: 100%|██████████| 40/40 [00:00<00:00, 460.16it/s]\n"
     ]
    },
    {
     "name": "stdout",
     "output_type": "stream",
     "text": [
      "  Epoch 26/50\n",
      "  Train Loss: 0.0001\n",
      "  Val   Loss: 0.0001\n",
      "  LR: 0.010000\n"
     ]
    },
    {
     "name": "stderr",
     "output_type": "stream",
     "text": [
      "Train model: 100%|██████████| 157/157 [00:00<00:00, 246.27it/s]\n",
      "Eval: 100%|██████████| 40/40 [00:00<00:00, 380.75it/s]\n"
     ]
    },
    {
     "name": "stdout",
     "output_type": "stream",
     "text": [
      "  Epoch 27/50\n",
      "  Train Loss: 0.0001\n",
      "  Val   Loss: 0.0001\n",
      "  LR: 0.010000\n"
     ]
    },
    {
     "name": "stderr",
     "output_type": "stream",
     "text": [
      "Train model: 100%|██████████| 157/157 [00:00<00:00, 281.26it/s]\n",
      "Eval: 100%|██████████| 40/40 [00:00<00:00, 501.70it/s]\n"
     ]
    },
    {
     "name": "stdout",
     "output_type": "stream",
     "text": [
      "  Epoch 28/50\n",
      "  Train Loss: 0.0001\n",
      "  Val   Loss: 0.0001\n",
      "  LR: 0.010000\n"
     ]
    },
    {
     "name": "stderr",
     "output_type": "stream",
     "text": [
      "Train model: 100%|██████████| 157/157 [00:00<00:00, 279.76it/s]\n",
      "Eval: 100%|██████████| 40/40 [00:00<00:00, 426.83it/s]\n"
     ]
    },
    {
     "name": "stdout",
     "output_type": "stream",
     "text": [
      "  Epoch 29/50\n",
      "  Train Loss: 0.0001\n",
      "  Val   Loss: 0.0001\n",
      "  LR: 0.010000\n"
     ]
    },
    {
     "name": "stderr",
     "output_type": "stream",
     "text": [
      "Train model: 100%|██████████| 157/157 [00:00<00:00, 271.33it/s]\n",
      "Eval: 100%|██████████| 40/40 [00:00<00:00, 524.82it/s]\n"
     ]
    },
    {
     "name": "stdout",
     "output_type": "stream",
     "text": [
      "  Epoch 30/50\n",
      "  Train Loss: 0.0001\n",
      "  Val   Loss: 0.0001\n",
      "  LR: 0.010000\n"
     ]
    },
    {
     "name": "stderr",
     "output_type": "stream",
     "text": [
      "Train model: 100%|██████████| 157/157 [00:00<00:00, 232.80it/s]\n",
      "Eval: 100%|██████████| 40/40 [00:00<00:00, 535.07it/s]\n"
     ]
    },
    {
     "name": "stdout",
     "output_type": "stream",
     "text": [
      "  Epoch 31/50\n",
      "  Train Loss: 0.0001\n",
      "  Val   Loss: 0.0001\n",
      "  LR: 0.010000\n"
     ]
    },
    {
     "name": "stderr",
     "output_type": "stream",
     "text": [
      "Train model: 100%|██████████| 157/157 [00:00<00:00, 285.16it/s]\n",
      "Eval: 100%|██████████| 40/40 [00:00<00:00, 502.51it/s]\n"
     ]
    },
    {
     "name": "stdout",
     "output_type": "stream",
     "text": [
      "  Epoch 32/50\n",
      "  Train Loss: 0.0001\n",
      "  Val   Loss: 0.0001\n",
      "  LR: 0.010000\n"
     ]
    },
    {
     "name": "stderr",
     "output_type": "stream",
     "text": [
      "Train model: 100%|██████████| 157/157 [00:00<00:00, 297.52it/s]\n",
      "Eval: 100%|██████████| 40/40 [00:00<00:00, 420.79it/s]\n"
     ]
    },
    {
     "name": "stdout",
     "output_type": "stream",
     "text": [
      "  Epoch 33/50\n",
      "  Train Loss: 0.0001\n",
      "  Val   Loss: 0.0001\n",
      "  LR: 0.010000\n"
     ]
    },
    {
     "name": "stderr",
     "output_type": "stream",
     "text": [
      "Train model: 100%|██████████| 157/157 [00:00<00:00, 271.38it/s]\n",
      "Eval: 100%|██████████| 40/40 [00:00<00:00, 497.49it/s]\n"
     ]
    },
    {
     "name": "stdout",
     "output_type": "stream",
     "text": [
      "  Epoch 34/50\n",
      "  Train Loss: 0.0001\n",
      "  Val   Loss: 0.0000\n",
      "  LR: 0.010000\n"
     ]
    },
    {
     "name": "stderr",
     "output_type": "stream",
     "text": [
      "Train model: 100%|██████████| 157/157 [00:00<00:00, 294.08it/s]\n",
      "Eval: 100%|██████████| 40/40 [00:00<00:00, 525.16it/s]\n"
     ]
    },
    {
     "name": "stdout",
     "output_type": "stream",
     "text": [
      "  Epoch 35/50\n",
      "  Train Loss: 0.0001\n",
      "  Val   Loss: 0.0000\n",
      "  LR: 0.010000\n"
     ]
    },
    {
     "name": "stderr",
     "output_type": "stream",
     "text": [
      "Train model: 100%|██████████| 157/157 [00:00<00:00, 309.06it/s]\n",
      "Eval: 100%|██████████| 40/40 [00:00<00:00, 501.74it/s]\n"
     ]
    },
    {
     "name": "stdout",
     "output_type": "stream",
     "text": [
      "  Epoch 36/50\n",
      "  Train Loss: 0.0001\n",
      "  Val   Loss: 0.0000\n",
      "  LR: 0.010000\n"
     ]
    },
    {
     "name": "stderr",
     "output_type": "stream",
     "text": [
      "Train model: 100%|██████████| 157/157 [00:00<00:00, 235.57it/s]\n",
      "Eval: 100%|██████████| 40/40 [00:00<00:00, 516.75it/s]\n"
     ]
    },
    {
     "name": "stdout",
     "output_type": "stream",
     "text": [
      "  Epoch 37/50\n",
      "  Train Loss: 0.0000\n",
      "  Val   Loss: 0.0000\n",
      "  LR: 0.010000\n"
     ]
    },
    {
     "name": "stderr",
     "output_type": "stream",
     "text": [
      "Train model: 100%|██████████| 157/157 [00:00<00:00, 315.57it/s]\n",
      "Eval: 100%|██████████| 40/40 [00:00<00:00, 526.35it/s]\n"
     ]
    },
    {
     "name": "stdout",
     "output_type": "stream",
     "text": [
      "  Epoch 38/50\n",
      "  Train Loss: 0.0000\n",
      "  Val   Loss: 0.0000\n",
      "  LR: 0.010000\n"
     ]
    },
    {
     "name": "stderr",
     "output_type": "stream",
     "text": [
      "Train model: 100%|██████████| 157/157 [00:00<00:00, 325.09it/s]\n",
      "Eval: 100%|██████████| 40/40 [00:00<00:00, 583.41it/s]\n"
     ]
    },
    {
     "name": "stdout",
     "output_type": "stream",
     "text": [
      "  Epoch 39/50\n",
      "  Train Loss: 0.0000\n",
      "  Val   Loss: 0.0000\n",
      "  LR: 0.010000\n"
     ]
    },
    {
     "name": "stderr",
     "output_type": "stream",
     "text": [
      "Train model: 100%|██████████| 157/157 [00:00<00:00, 389.77it/s]\n",
      "Eval: 100%|██████████| 40/40 [00:00<00:00, 676.03it/s]\n"
     ]
    },
    {
     "name": "stdout",
     "output_type": "stream",
     "text": [
      "  Epoch 40/50\n",
      "  Train Loss: 0.0000\n",
      "  Val   Loss: 0.0000\n",
      "  LR: 0.010000\n"
     ]
    },
    {
     "name": "stderr",
     "output_type": "stream",
     "text": [
      "Train model: 100%|██████████| 157/157 [00:00<00:00, 379.71it/s]\n",
      "Eval: 100%|██████████| 40/40 [00:00<00:00, 724.65it/s]\n"
     ]
    },
    {
     "name": "stdout",
     "output_type": "stream",
     "text": [
      "  Epoch 41/50\n",
      "  Train Loss: 0.0000\n",
      "  Val   Loss: 0.0000\n",
      "  LR: 0.010000\n"
     ]
    },
    {
     "name": "stderr",
     "output_type": "stream",
     "text": [
      "Train model: 100%|██████████| 157/157 [00:00<00:00, 389.59it/s]\n",
      "Eval: 100%|██████████| 40/40 [00:00<00:00, 697.13it/s]\n"
     ]
    },
    {
     "name": "stdout",
     "output_type": "stream",
     "text": [
      "  Epoch 42/50\n",
      "  Train Loss: 0.0000\n",
      "  Val   Loss: 0.0000\n",
      "  LR: 0.010000\n"
     ]
    },
    {
     "name": "stderr",
     "output_type": "stream",
     "text": [
      "Train model: 100%|██████████| 157/157 [00:00<00:00, 264.04it/s]\n",
      "Eval: 100%|██████████| 40/40 [00:00<00:00, 534.43it/s]\n"
     ]
    },
    {
     "name": "stdout",
     "output_type": "stream",
     "text": [
      "  Epoch 43/50\n",
      "  Train Loss: 0.0000\n",
      "  Val   Loss: 0.0000\n",
      "  LR: 0.010000\n"
     ]
    },
    {
     "name": "stderr",
     "output_type": "stream",
     "text": [
      "Train model: 100%|██████████| 157/157 [00:00<00:00, 285.03it/s]\n",
      "Eval: 100%|██████████| 40/40 [00:00<00:00, 502.97it/s]\n"
     ]
    },
    {
     "name": "stdout",
     "output_type": "stream",
     "text": [
      "  Epoch 44/50\n",
      "  Train Loss: 0.0000\n",
      "  Val   Loss: 0.0000\n",
      "  LR: 0.010000\n"
     ]
    },
    {
     "name": "stderr",
     "output_type": "stream",
     "text": [
      "Train model: 100%|██████████| 157/157 [00:00<00:00, 225.96it/s]\n",
      "Eval: 100%|██████████| 40/40 [00:00<00:00, 526.13it/s]\n"
     ]
    },
    {
     "name": "stdout",
     "output_type": "stream",
     "text": [
      "  Epoch 45/50\n",
      "  Train Loss: 0.0000\n",
      "  Val   Loss: 0.0000\n",
      "  LR: 0.010000\n"
     ]
    },
    {
     "name": "stderr",
     "output_type": "stream",
     "text": [
      "Train model: 100%|██████████| 157/157 [00:00<00:00, 219.63it/s]\n",
      "Eval: 100%|██████████| 40/40 [00:00<00:00, 410.86it/s]\n"
     ]
    },
    {
     "name": "stdout",
     "output_type": "stream",
     "text": [
      "  Epoch 46/50\n",
      "  Train Loss: 0.0000\n",
      "  Val   Loss: 0.0000\n",
      "  LR: 0.010000\n"
     ]
    },
    {
     "name": "stderr",
     "output_type": "stream",
     "text": [
      "Train model: 100%|██████████| 157/157 [00:00<00:00, 201.93it/s]\n",
      "Eval: 100%|██████████| 40/40 [00:00<00:00, 460.91it/s]\n"
     ]
    },
    {
     "name": "stdout",
     "output_type": "stream",
     "text": [
      "  Epoch 47/50\n",
      "  Train Loss: 0.0000\n",
      "  Val   Loss: 0.0000\n",
      "  LR: 0.010000\n"
     ]
    },
    {
     "name": "stderr",
     "output_type": "stream",
     "text": [
      "Train model: 100%|██████████| 157/157 [00:00<00:00, 320.80it/s]\n",
      "Eval: 100%|██████████| 40/40 [00:00<00:00, 533.65it/s]\n"
     ]
    },
    {
     "name": "stdout",
     "output_type": "stream",
     "text": [
      "  Epoch 48/50\n",
      "  Train Loss: 0.0000\n",
      "  Val   Loss: 0.0000\n",
      "  LR: 0.010000\n"
     ]
    },
    {
     "name": "stderr",
     "output_type": "stream",
     "text": [
      "Train model: 100%|██████████| 157/157 [00:00<00:00, 229.35it/s]\n",
      "Eval: 100%|██████████| 40/40 [00:00<00:00, 439.82it/s]\n"
     ]
    },
    {
     "name": "stdout",
     "output_type": "stream",
     "text": [
      "  Epoch 49/50\n",
      "  Train Loss: 0.0000\n",
      "  Val   Loss: 0.0000\n",
      "  LR: 0.010000\n"
     ]
    },
    {
     "name": "stderr",
     "output_type": "stream",
     "text": [
      "Train model: 100%|██████████| 157/157 [00:00<00:00, 244.14it/s]\n",
      "Eval: 100%|██████████| 40/40 [00:00<00:00, 368.10it/s]\n"
     ]
    },
    {
     "name": "stdout",
     "output_type": "stream",
     "text": [
      "  Epoch 50/50\n",
      "  Train Loss: 0.0000\n",
      "  Val   Loss: 0.0000\n",
      "  LR: 0.010000\n"
     ]
    },
    {
     "name": "stderr",
     "output_type": "stream",
     "text": [
      "100%|██████████| 40/40 [00:00<00:00, 364.13it/s]\n"
     ]
    }
   ],
   "source": [
    "def train_model(model, dataloader, criterion, optimizer):\n",
    "    running_loss = 0.0\n",
    "    total = 0\n",
    "    model.train()\n",
    "    for x_batch, y_batch in tqdm(dataloader, desc=\"Train model: \"):\n",
    "        x_batch, y_batch = x_batch.to(\"cuda\"), y_batch.to(\"cuda\")\n",
    "        optimizer.zero_grad()\n",
    "        outputs = model(x_batch)\n",
    "        loss = criterion(outputs, y_batch)\n",
    "        loss.backward()\n",
    "        optimizer.step()\n",
    "        running_loss += loss.item() * y_batch.size(0)\n",
    "        total += y_batch.size(0)\n",
    "    return running_loss / total\n",
    "\n",
    "def evaulate(model, dataloader, criterion):\n",
    "    running_loss = 0.0\n",
    "    total = 0\n",
    "    model.eval()\n",
    "    with torch.no_grad():\n",
    "        for x_batch, y_batch in tqdm(dataloader, desc=\"Eval: \"):\n",
    "            x_batch, y_batch = x_batch.to(\"cuda\"), y_batch.to(\"cuda\")\n",
    "            outputs = model(x_batch)\n",
    "            loss = criterion(outputs, y_batch)\n",
    "            running_loss += loss.item() * y_batch.size(0)\n",
    "            total += y_batch.size(0)\n",
    "    return running_loss / total\n",
    "\n",
    "def test_model(model, dataloader):\n",
    "    model.eval()\n",
    "    all_preds, all_targets = [], []\n",
    "    with torch.no_grad():\n",
    "        for X_batch, y_batch in tqdm(dataloader):\n",
    "            X_batch, y_batch = X_batch.to(\"cuda\"), y_batch.to(\"cuda\")\n",
    "            outputs = model(X_batch)\n",
    "            all_preds.extend(outputs.squeeze(1).cpu().numpy())\n",
    "            all_targets.extend(y_batch.squeeze(1).cpu().numpy())\n",
    "    return all_preds, all_targets\n",
    "\n",
    "epochs = 50\n",
    "train_losses, test_losses = [], []\n",
    "for epoch in range(epochs):\n",
    "    train_loss = train_model(model, train_loader, criterion, optimizer)\n",
    "    test_loss = evaulate(model, test_loader, criterion)\n",
    "    scheduler.step(test_loss)\n",
    "    \n",
    "    train_losses.append(train_loss)\n",
    "    test_losses.append(test_loss)\n",
    "    \n",
    "    print(f\"  Epoch {epoch+1}/{epochs}\")\n",
    "    print(f\"  Train Loss: {train_loss:.4f}\")\n",
    "    print(f\"  Val   Loss: {test_loss:.4f}\")\n",
    "    print(f\"  LR: {scheduler.get_last_lr()[0]:.6f}\")\n",
    "all_preds, all_labels = test_model(model, test_loader)\n",
    "mae = mean_absolute_error(all_labels, all_preds)\n",
    "rmse = root_mean_squared_error(all_labels, all_preds)\n",
    "r2 = r2_score(all_labels, all_preds)"
   ]
  },
  {
   "cell_type": "code",
   "execution_count": null,
   "id": "d32e573b-fbeb-46c3-b737-e6f70baf7404",
   "metadata": {},
   "outputs": [
    {
     "name": "stdout",
     "output_type": "stream",
     "text": [
      "MLP Sonuçları:\n",
      "MAE:  0.0040\n",
      "RMSE: 0.0054\n",
      "R²:   0.9986\n"
     ]
    },
    {
     "data": {
      "image/png": "[encoded data removed]",
      "text/plain": [
       "<Figure size 800x600 with 1 Axes>"
      ]
     },
     "metadata": {},
     "output_type": "display_data"
    },
    {
     "data": {
      "image/png": "[encoded data removed]",
      "text/plain": [
       "<Figure size 1000x500 with 1 Axes>"
      ]
     },
     "metadata": {},
     "output_type": "display_data"
    },
    {
     "data": {
      "image/png": "[encoded data removed]",
      "text/plain": [
       "<Figure size 640x480 with 1 Axes>"
      ]
     },
     "metadata": {},
     "output_type": "display_data"
    }
   ],
   "source": [
    "import matplotlib.pyplot as plt\n",
    "\n",
    "print(\"MLP Sonuçları:\")\n",
    "print(f\"MAE:  {mae:.4f}\")\n",
    "print(f\"RMSE: {rmse:.4f}\")\n",
    "print(f\"R²:   {r2:.4f}\")\n",
    "\n",
    "plt.figure(figsize=(8,6))\n",
    "plt.plot(train_losses, label=\"Train Loss\", color='blue', linewidth=2)\n",
    "plt.plot(test_losses, label=\"Validation Loss\", color='orange', linewidth=2)\n",
    "plt.xlabel(\"Epoch\")\n",
    "plt.ylabel(\"Loss\")\n",
    "plt.title(\"Train vs Validation Loss\")\n",
    "plt.legend()\n",
    "plt.grid(True)\n",
    "plt.tight_layout()\n",
    "plt.show()\n",
    "\n",
    "plt.figure(figsize=(10,5))\n",
    "plt.plot(all_labels, label=\"Gerçek\", linewidth=2)\n",
    "plt.plot(all_preds, label=\"Tahmin\", linewidth=2)\n",
    "plt.xlabel(\"Zaman\")\n",
    "plt.ylabel(\"Severity Score\")\n",
    "plt.title(\"Gerçek vs Tahmin (Test Set)\")\n",
    "plt.legend()\n",
    "plt.grid(True)\n",
    "plt.tight_layout()\n",
    "plt.show()\n",
    " \n",
    "plt.plot(all_labels[:100], label=\"Gerçek\")\n",
    "plt.plot(all_preds[:100], label=\"Tahmin\")\n",
    "plt.legend()\n",
    "plt.show()"
   ]
  },
  {
   "cell_type": "code",
   "execution_count": null,
   "id": "f5c86643-1659-452c-882a-0ed852759747",
   "metadata": {},
   "outputs": [
    {
     "name": "stdout",
     "output_type": "stream",
     "text": [
      "XGBoost Sonuçları:\n",
      "MAE:  0.0117\n",
      "RMSE: 0.0148\n",
      "R²:   0.9894\n"
     ]
    },
    {
     "data": {
      "image/png": "[encoded data removed]",
      "text/plain": [
       "<Figure size 800x600 with 1 Axes>"
      ]
     },
     "metadata": {},
     "output_type": "display_data"
    },
    {
     "data": {
      "image/png": "[encoded data removed]",
      "text/plain": [
       "<Figure size 1000x500 with 1 Axes>"
      ]
     },
     "metadata": {},
     "output_type": "display_data"
    }
   ],
   "source": [
    "# XGBoost test tahmini ve metrikler\n",
    "y_pred_xgb = model_xgb.predict(X_test)\n",
    "\n",
    "mae_xgb = mean_absolute_error(y_test, y_pred_xgb)\n",
    "rmse_xgb = root_mean_squared_error(y_test, y_pred_xgb)\n",
    "r2_xgb = r2_score(y_test, y_pred_xgb)\n",
    "\n",
    "print(\"XGBoost Sonuçları:\")\n",
    "print(f\"MAE:  {mae_xgb:.4f}\")\n",
    "print(f\"RMSE: {rmse_xgb:.4f}\")\n",
    "print(f\"R²:   {r2_xgb:.4f}\")\n",
    "\n",
    "plt.figure(figsize=(8,6))\n",
    "plt.plot(y_test.values, label=\"Gerçek\", linewidth=2)\n",
    "plt.plot(y_pred_xgb, label=\"XGBoost Tahmin\", linewidth=2)\n",
    "plt.xlabel(\"Örnek\")\n",
    "plt.ylabel(\"Severity Score\")\n",
    "plt.title(\"XGBoost: Gerçek vs Tahmin (Test Set)\")\n",
    "plt.legend()\n",
    "plt.grid(True)\n",
    "plt.tight_layout()\n",
    "plt.show()\n",
    "\n",
    "plt.figure(figsize=(10,5))\n",
    "plt.plot(y_test.values[:100], label=\"Gerçek\", linewidth=2)\n",
    "plt.plot(y_pred_xgb[:100], label=\"XGBoost Tahmin\", linewidth=2)\n",
    "plt.xlabel(\"Örnek [0-100]\")\n",
    "plt.ylabel(\"Severity Score\")\n",
    "plt.title(\"XGBoost: İlk 100 Gerçek vs Tahmin\")\n",
    "plt.legend()\n",
    "plt.grid(True)\n",
    "plt.tight_layout()\n",
    "plt.show()"
   ]
  }
 ],
 "metadata": {
  "kernelspec": {
   "display_name": "ml_env",
   "language": "python",
   "name": "python3"
  },
  "language_info": {
   "name": "python",
   "version": "3.10.16"
  }
 },
 "nbformat": 4,
 "nbformat_minor": 5
}
