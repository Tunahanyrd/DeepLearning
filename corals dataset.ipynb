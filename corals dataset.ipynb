{
 "cells": [
  {
   "cell_type": "markdown",
   "id": "188191e6-50f6-43d3-8460-fb36bb634125",
   "metadata": {},
   "source": [
    "# 🪸 Coral Health Classification using CNN (PyTorch)\n",
    "This project aims to classify coral reef images as either **Healthy** or **Bleached** using a simple Convolutional Neural Network (CNN) implemented with PyTorch.  \n",
    "Dataset: [Healthy and Bleached Corals (Kaggle)](https://www.kaggle.com/datasets/vencerlanz09/healthy-and-bleached-corals-image-classification)\n",
    "\n",
    "---\n",
    "\n",
    "1. Import Libraries\n",
    "\n",
    "2. Download / Load Dataset\n",
    "\n",
    "3. Data Transformations & Loaders\n",
    "\n",
    "4. CNN Model Definition\n",
    "\n",
    "5. Training Loop\n",
    "\n",
    "6. Evaluation & Visualization\n",
    "\n",
    "7. Conclusion & Ideas for Improvement"
   ]
  },
  {
   "cell_type": "code",
   "execution_count": 1,
   "id": "b5deea73-88ea-4787-8ed9-f2c4fa063ca0",
   "metadata": {},
   "outputs": [],
   "source": [
    "from torch.utils.data import Dataset\n",
    "\n",
    "class TransformSubset(Dataset):\n",
    "    def __init__(self, subset, transform):\n",
    "        self.subset = subset \n",
    "        self.transform = transform\n",
    "\n",
    "    def __getitem__(self, index):\n",
    "        x, y = self.subset[index]  \n",
    "        x = self.transform(x)      \n",
    "        return x, y\n",
    "\n",
    "    def __len__(self):\n",
    "        return len(self.subset)"
   ]
  },
  {
   "cell_type": "code",
   "execution_count": 2,
   "id": "77814e61-1f0a-410f-85ea-510e33a1a7fb",
   "metadata": {},
   "outputs": [],
   "source": [
    "import torch\n",
    "import torch.nn as nn\n",
    "import torch.optim as optim\n",
    "from torchvision import datasets, transforms, models\n",
    "from torch.utils.data import DataLoader\n",
    "import matplotlib.pyplot as plt\n",
    "import numpy as np\n",
    "import os"
   ]
  },
  {
   "cell_type": "code",
   "execution_count": 3,
   "id": "3ee1ece3-12cb-4e7b-a402-4e8aa4487748",
   "metadata": {},
   "outputs": [],
   "source": [
    "train_transform = transforms.Compose([\n",
    "    transforms.Resize((224, 224)),\n",
    "    transforms.RandomHorizontalFlip(),\n",
    "    transforms.ColorJitter(brightness=0.1, contrast=0.1, saturation=0.1, hue=0.05),\n",
    "    transforms.ToTensor(),\n",
    "    transforms.RandomErasing(p=0.1, scale=(0.02, 0.1)),  \n",
    "    transforms.Normalize([0.485, 0.456, 0.406],\n",
    "                         [0.229, 0.224, 0.225])\n",
    "])\n",
    "val_transform = transforms.Compose([\n",
    "    transforms.Resize((224, 224)),\n",
    "    transforms.ToTensor(),\n",
    "    transforms.Normalize([0.485, 0.456, 0.406],\n",
    "                         [0.229, 0.224, 0.225])\n",
    "])"
   ]
  },
  {
   "cell_type": "code",
   "execution_count": 4,
   "id": "74b0f8b8-58c0-4fbb-afbd-7c19c11a65f3",
   "metadata": {},
   "outputs": [],
   "source": [
    "from torch.utils.data import random_split"
   ]
  },
  {
   "cell_type": "code",
   "execution_count": 5,
   "id": "2dbd1c5d-6572-4bc5-8108-44f2094f299c",
   "metadata": {},
   "outputs": [],
   "source": [
    "data_dir = \"coral_data\"\n",
    "\n",
    "dataset = datasets.ImageFolder(root=data_dir)\n",
    "\n",
    "train_size = int(0.8 * len(dataset))\n",
    "val_size = len(dataset) - train_size\n",
    "\n",
    "train_subset, val_subset = random_split(dataset, [train_size, val_size])\n",
    "\n",
    "train_dataset = TransformSubset(train_subset, train_transform)\n",
    "val_dataset   = TransformSubset(val_subset, val_transform)"
   ]
  },
  {
   "cell_type": "code",
   "execution_count": 6,
   "id": "677e3b99-e1ca-4c0f-b0b0-9770e524e1c4",
   "metadata": {},
   "outputs": [],
   "source": [
    "train_loader = DataLoader(train_dataset, batch_size = 16, shuffle=True)\n",
    "val_loader = DataLoader(val_dataset, batch_size = 16, shuffle=False)"
   ]
  },
  {
   "cell_type": "code",
   "execution_count": 7,
   "id": "1a2ddf4e-aedd-4faa-93a7-6b2d754cfef4",
   "metadata": {},
   "outputs": [
    {
     "name": "stdout",
     "output_type": "stream",
     "text": [
      "Classes: ['bleached_corals', 'healthy_corals']\n",
      "{'bleached_corals': 0, 'healthy_corals': 1}\n"
     ]
    }
   ],
   "source": [
    "class_names = dataset.classes\n",
    "print(\"Classes:\", class_names)\n",
    "print(dataset.class_to_idx)"
   ]
  },
  {
   "cell_type": "code",
   "execution_count": 8,
   "id": "e7769f65-b23a-4140-b390-79416f81e71c",
   "metadata": {},
   "outputs": [],
   "source": [
    "class Cnn(nn.Module):\n",
    "    def __init__(self, num_classes):\n",
    "        super(Cnn, self).__init__()\n",
    "        self.features = nn.Sequential( # [batch_size, 3, 224, 224]\n",
    "            nn.Conv2d(3, 64, kernel_size = 3, padding = 1), nn.BatchNorm2d(64), nn.ReLU(), \n",
    "            nn.Conv2d(64, 64, kernel_size = 3, padding = 1), nn.BatchNorm2d(64), nn.ReLU(), # [batch_size, 64, 224, 224]\n",
    "            nn.MaxPool2d(2,2), # [batch_size, 64, 112, 112]\n",
    "\n",
    "            nn.Conv2d(64, 128, kernel_size = 3, padding = 1), nn.BatchNorm2d(128), nn.ReLU(), \n",
    "            nn.Conv2d(128, 128, kernel_size = 3, padding = 1), nn.BatchNorm2d(128), nn.ReLU(), # [batch_size, 128, 112, 112]\n",
    "            nn.MaxPool2d(2,2), # [batch_size, 128, 56,56]\n",
    "            \n",
    "            nn.Conv2d(128, 256, kernel_size = 3, padding = 1), nn.BatchNorm2d(256), nn.ReLU(), # [batch_size, 256, 56, 56]\n",
    "            nn.Conv2d(256, 256, kernel_size = 3, padding = 1), nn.BatchNorm2d(256), nn.ReLU(),\n",
    "            nn.MaxPool2d(2,2), # [batch_size, 256, 28, 28]\n",
    "\n",
    "            nn.Conv2d(256, 512, kernel_size = 3, padding = 1), nn.BatchNorm2d(512), nn.ReLU(), # [batch_size, 512, 28, 28]\n",
    "            nn.Conv2d(512, 512, kernel_size = 3, padding = 1), nn.BatchNorm2d(512), nn.ReLU(),\n",
    "            nn.MaxPool2d(2,2), # [batch_size, 512, 14, 14]\n",
    "            )\n",
    "                \n",
    "\n",
    "        self.classifier = nn.Sequential(\n",
    "            nn.Flatten(),\n",
    "            nn.Linear(512*14*14, 1024),\n",
    "            nn.ReLU(),\n",
    "            nn.Dropout(0.5),\n",
    "            nn.Linear(1024, num_classes)        \n",
    "        )\n",
    "    def forward(self, x):\n",
    "        x = self.features(x)\n",
    "        return self.classifier(x)"
   ]
  },
  {
   "cell_type": "code",
   "execution_count": 9,
   "id": "6fd81f97-a03f-4f13-8f3c-e9766ebc2be5",
   "metadata": {},
   "outputs": [],
   "source": [
    "def train(model, dataloader, criterion, optimizer, scheduler, device = \"cuda\"):\n",
    "    model.train()\n",
    "    train_losses = []\n",
    "    running_loss = 0.0\n",
    "    correct = 0\n",
    "    total = 0\n",
    "\n",
    "    for images, labels in dataloader:\n",
    "        images, labels = images.to(device), labels.to(device)\n",
    "\n",
    "        optimizer.zero_grad()\n",
    "        outputs = model(images)\n",
    "        loss = criterion(outputs, labels)\n",
    "        loss.backward()\n",
    "        optimizer.step()\n",
    "\n",
    "        running_loss += loss.item() * images.size(0)\n",
    "        _, preds = torch.max(outputs, 1)\n",
    "        correct += (preds == labels).sum().item()\n",
    "        total += labels.size(0)\n",
    "    epoch_loss = running_loss / total\n",
    "    epoch_acc = correct / total\n",
    "    return epoch_loss, epoch_acc\n",
    "        \n",
    "def evaluate(model, dataloader, criterion, device = \"cuda\"):\n",
    "    model.eval()\n",
    "    running_loss = 0.0\n",
    "    correct = 0\n",
    "    total = 0\n",
    "    \n",
    "    with torch.no_grad():\n",
    "        for images, labels in dataloader:\n",
    "            images, labels = images.to(device), labels.to(device)\n",
    "            outputs = model(images)\n",
    "            loss = criterion(outputs, labels)\n",
    "    \n",
    "            running_loss += loss.item() * images.size(0)\n",
    "            _, preds = torch.max(outputs, 1)\n",
    "            correct += (labels == preds).sum().item()\n",
    "            total += images.size(0)\n",
    "    \n",
    "    epoch_loss = running_loss / total\n",
    "    epoch_acc = correct / total\n",
    "    return epoch_loss, epoch_acc       "
   ]
  },
  {
   "cell_type": "code",
   "execution_count": 28,
   "id": "4a9b5180-f389-41c5-8386-07180ce41b11",
   "metadata": {},
   "outputs": [],
   "source": [
    "from collections import Counter"
   ]
  },
  {
   "cell_type": "code",
   "execution_count": 34,
   "id": "219a7d0d-f0f6-4d64-8d5c-d18051615f3d",
   "metadata": {},
   "outputs": [],
   "source": [
    "labels = [label for _, label in dataset.samples]\n",
    "counts = Counter(labels)\n",
    "class_counts = [counts[i] for i in range(len(class_names))]\n",
    "total = sum(class_counts)\n",
    "\n",
    "weights = [total / c for c in class_counts]\n",
    "weights = [w / sum(weights) for w in weights]\n",
    "weights = torch.tensor(weights, dtype=torch.float32).to(device)"
   ]
  },
  {
   "cell_type": "code",
   "execution_count": 36,
   "id": "382b91f1-5a5a-4b02-aa93-004cddeccf98",
   "metadata": {},
   "outputs": [],
   "source": [
    "device = \"cuda\"\n",
    "model = Cnn(num_classes=2).to(device)\n",
    "\n",
    "criterion = nn.CrossEntropyLoss(weight=weights)\n",
    "\n",
    "optimizer = optim.Adam(model.parameters(), lr=0.001)\n",
    "scheduler = torch.optim.lr_scheduler.ReduceLROnPlateau(optimizer, mode='min', factor=0.5, patience=2, verbose=True)\n",
    "\n",
    "EPOCHS = 15\n",
    "\n",
    "train_losses, val_losses = [], []\n",
    "train_accs, val_accs = [], []"
   ]
  },
  {
   "cell_type": "code",
   "execution_count": 37,
   "id": "e2caea92-6645-47db-a0f6-eb7f02bc08b9",
   "metadata": {},
   "outputs": [
    {
     "name": "stdout",
     "output_type": "stream",
     "text": [
      "Epoch 1/15\n",
      "  Train Loss: 14.4662, Acc: 0.5894\n",
      "  Val   Loss: 7.7252, Acc: 0.4973\n",
      "  LR: 0.001000\n",
      "Epoch 2/15\n",
      "  Train Loss: 6.0834, Acc: 0.5962\n",
      "  Val   Loss: 1.8090, Acc: 0.6108\n",
      "  LR: 0.001000\n",
      "Epoch 3/15\n",
      "  Train Loss: 2.6967, Acc: 0.5867\n",
      "  Val   Loss: 2.9141, Acc: 0.6378\n",
      "  LR: 0.001000\n",
      "Epoch 4/15\n",
      "  Train Loss: 1.1183, Acc: 0.6043\n",
      "  Val   Loss: 1.2823, Acc: 0.4919\n",
      "  LR: 0.001000\n",
      "Epoch 5/15\n",
      "  Train Loss: 0.6693, Acc: 0.6667\n",
      "  Val   Loss: 0.9884, Acc: 0.7405\n",
      "  LR: 0.001000\n",
      "Epoch 6/15\n",
      "  Train Loss: 0.5812, Acc: 0.7127\n",
      "  Val   Loss: 0.6696, Acc: 0.7297\n",
      "  LR: 0.001000\n",
      "Epoch 7/15\n",
      "  Train Loss: 0.5974, Acc: 0.7046\n",
      "  Val   Loss: 0.6205, Acc: 0.7189\n",
      "  LR: 0.001000\n",
      "Epoch 8/15\n",
      "  Train Loss: 0.5937, Acc: 0.7154\n",
      "  Val   Loss: 0.5629, Acc: 0.7027\n",
      "  LR: 0.001000\n",
      "Epoch 9/15\n",
      "  Train Loss: 0.5908, Acc: 0.7114\n",
      "  Val   Loss: 0.5797, Acc: 0.7135\n",
      "  LR: 0.001000\n",
      "Epoch 10/15\n",
      "  Train Loss: 0.5533, Acc: 0.7439\n",
      "  Val   Loss: 0.5685, Acc: 0.7189\n",
      "  LR: 0.001000\n",
      "Epoch 11/15\n",
      "  Train Loss: 0.5574, Acc: 0.7276\n",
      "  Val   Loss: 0.6079, Acc: 0.7459\n",
      "  LR: 0.000500\n",
      "Epoch 12/15\n",
      "  Train Loss: 0.5328, Acc: 0.7398\n",
      "  Val   Loss: 0.5507, Acc: 0.7243\n",
      "  LR: 0.000500\n",
      "Epoch 13/15\n",
      "  Train Loss: 0.5135, Acc: 0.7669\n",
      "  Val   Loss: 0.5747, Acc: 0.7243\n",
      "  LR: 0.000500\n",
      "Epoch 14/15\n",
      "  Train Loss: 0.5250, Acc: 0.7398\n",
      "  Val   Loss: 0.5594, Acc: 0.7081\n",
      "  LR: 0.000500\n",
      "Epoch 15/15\n",
      "  Train Loss: 0.5464, Acc: 0.7046\n",
      "  Val   Loss: 0.5562, Acc: 0.7081\n",
      "  LR: 0.000250\n"
     ]
    }
   ],
   "source": [
    "for epoch in range(EPOCHS):\n",
    "    train_loss, train_acc = train(model, train_loader, criterion, optimizer, device)\n",
    "    val_loss, val_acc = evaluate(model, val_loader, criterion, device)\n",
    "    scheduler.step(val_loss)\n",
    "\n",
    "    train_losses.append(train_loss)\n",
    "    val_losses.append(val_loss)\n",
    "    train_accs.append(train_acc)\n",
    "    val_accs.append(val_acc)\n",
    "\n",
    "    print(f\"Epoch {epoch+1}/{EPOCHS}\")\n",
    "    print(f\"  Train Loss: {train_loss:.4f}, Acc: {train_acc:.4f}\")\n",
    "    print(f\"  Val   Loss: {val_loss:.4f}, Acc: {val_acc:.4f}\")\n",
    "    print(f\"  LR: {scheduler.get_last_lr()[0]:.6f}\")"
   ]
  },
  {
   "cell_type": "code",
   "execution_count": 38,
   "id": "2b4cd737-4b58-4edc-8297-db91b188d2cb",
   "metadata": {},
   "outputs": [],
   "source": [
    "import pandas as pd\n",
    "from sklearn.metrics import confusion_matrix, classification_report, roc_auc_score\n",
    "import seaborn as sns\n",
    "import matplotlib.pyplot as plt"
   ]
  },
  {
   "cell_type": "code",
   "execution_count": 49,
   "id": "09bc2022-3410-45b0-b09f-40124c2b1611",
   "metadata": {},
   "outputs": [],
   "source": [
    "def get_all_preds(model, dataloader, device):\n",
    "    model.eval()\n",
    "    all_preds = []\n",
    "    all_labels = []\n",
    "    with torch.no_grad():\n",
    "        for images, labels in dataloader:\n",
    "            images, labels = images.to(device), labels.to(device)\n",
    "            outputs = model(images)\n",
    "            _, preds = torch.max(outputs ,1)\n",
    "            all_preds.extend(preds.cpu().numpy())\n",
    "            all_labels.extend(labels.cpu().numpy())\n",
    "    return all_preds, all_labels"
   ]
  },
  {
   "cell_type": "code",
   "execution_count": 50,
   "id": "75a82358-acdd-47c9-a2e7-4f5f662ed610",
   "metadata": {},
   "outputs": [],
   "source": [
    "preds, labels = get_all_preds(model, val_loader, device)"
   ]
  },
  {
   "cell_type": "code",
   "execution_count": 53,
   "id": "59c4bb33-e0cc-4491-8b50-69a2e5cddffc",
   "metadata": {},
   "outputs": [
    {
     "name": "stdout",
     "output_type": "stream",
     "text": [
      "ROC AUC: 0.8079\n"
     ]
    }
   ],
   "source": [
    "from sklearn.metrics import roc_curve, roc_auc_score\n",
    "import torch.nn.functional as F\n",
    "\n",
    "def get_probs_and_labels(model, dataloader, device):\n",
    "    model.eval()\n",
    "    all_probs = []\n",
    "    all_labels = []\n",
    "    with torch.no_grad():\n",
    "        for images, labels in dataloader:\n",
    "            images = images.to(device)\n",
    "            outputs = model(images)\n",
    "            probs = F.softmax(outputs, dim=1)[:, 1]  # class 1 = healthy_corals\n",
    "            all_probs.extend(probs.cpu().numpy())\n",
    "            all_labels.extend(labels.cpu().numpy())\n",
    "    return all_probs, all_labels\n",
    "\n",
    "probs, labels = get_probs_and_labels(model, val_loader, device)\n",
    "\n",
    "# ROC AUC score\n",
    "roc_auc = roc_auc_score(labels, probs)\n",
    "print(f\"ROC AUC: {roc_auc:.4f}\")"
   ]
  },
  {
   "cell_type": "code",
   "execution_count": 69,
   "id": "5810a35c-247e-49d1-b7f2-bdb504d3f47a",
   "metadata": {},
   "outputs": [
    {
     "name": "stdout",
     "output_type": "stream",
     "text": [
      "Optimal Threshold: 0.56\n",
      "                 precision    recall  f1-score   support\n",
      "\n",
      "bleached_corals       0.77      0.78      0.78       104\n",
      " healthy_corals       0.71      0.70      0.71        81\n",
      "\n",
      "       accuracy                           0.75       185\n",
      "      macro avg       0.74      0.74      0.74       185\n",
      "   weighted avg       0.75      0.75      0.75       185\n",
      "\n"
     ]
    },
    {
     "data": {
      "image/png": "[encoded data removed]",
      "text/plain": [
       "<Figure size 640x480 with 2 Axes>"
      ]
     },
     "metadata": {},
     "output_type": "display_data"
    }
   ],
   "source": [
    "# threshold tuning\n",
    "fpr, tpr, thresholds = roc_curve(labels, probs)\n",
    "\n",
    "# Youden’s J statistic = TPR - FPR\n",
    "youden_index = tpr - fpr\n",
    "best_threshold = thresholds[youden_index.argmax()]\n",
    "print(f\"Optimal Threshold: {best_threshold:.2f}\")\n",
    "\n",
    "preds_thresh = (np.array(probs) > best_threshold).astype(int)\n",
    "\n",
    "print(classification_report(labels, preds_thresh, target_names=class_names))\n",
    "\n",
    "cm_thresh = confusion_matrix(labels, preds_thresh)\n",
    "sns.heatmap(cm_thresh, annot=True, fmt=\"d\", cmap=\"Purples\", \n",
    "            xticklabels=class_names, yticklabels=class_names)\n",
    "plt.xlabel(\"Predicted\")\n",
    "plt.ylabel(\"Actual\")\n",
    "plt.title(\"Confusion Matrix (Tuned Threshold)\")\n",
    "plt.show()"
   ]
  },
  {
   "cell_type": "code",
   "execution_count": 71,
   "id": "e3b1d0cf-517e-435d-9c19-2bb8dcc08c2b",
   "metadata": {},
   "outputs": [
    {
     "data": {
      "image/png": "[encoded data removed]",
      "text/plain": [
       "<Figure size 640x480 with 1 Axes>"
      ]
     },
     "metadata": {},
     "output_type": "display_data"
    }
   ],
   "source": [
    "plt.figure()\n",
    "plt.plot(fpr, tpr, label=f\"ROC Curve (AUC = {roc_auc:.2f})\")\n",
    "plt.plot([0, 1], [0, 1], '--')  # random baseline\n",
    "plt.xlabel(\"False Positive Rate\")\n",
    "plt.ylabel(\"True Positive Rate\")\n",
    "plt.title(\"ROC Curve\")\n",
    "plt.legend()\n",
    "plt.grid(True)\n",
    "plt.show()"
   ]
  },
  {
   "cell_type": "code",
   "execution_count": 73,
   "id": "0d3cc174-07af-4d3b-9556-ed8c3aae7533",
   "metadata": {},
   "outputs": [],
   "source": [
    "from sklearn.metrics import precision_recall_curve, average_precision_score"
   ]
  },
  {
   "cell_type": "code",
   "execution_count": 74,
   "id": "51183ac6-4cae-4b2d-a6d0-4cbcd1ebbb19",
   "metadata": {},
   "outputs": [
    {
     "data": {
      "image/png": "[encoded data removed]",
      "text/plain": [
       "<Figure size 640x480 with 1 Axes>"
      ]
     },
     "metadata": {},
     "output_type": "display_data"
    }
   ],
   "source": [
    "precision, recall, _ = precision_recall_curve(labels, probs)\n",
    "\n",
    "ap_score = average_precision_score(labels, probs)\n",
    "\n",
    "plt.figure()\n",
    "plt.plot(recall, precision, label=f\"PR Curve (AP = {ap_score:.2f})\")\n",
    "plt.xlabel(\"Recall\")\n",
    "plt.ylabel(\"Precision\")\n",
    "plt.title(\"Precision-Recall Curve\")\n",
    "plt.legend()\n",
    "plt.grid(True)\n",
    "plt.show()"
   ]
  },
  {
   "cell_type": "code",
   "execution_count": null,
   "id": "cd776bdd-2ae4-4ea6-bd6c-e675bb68f68e",
   "metadata": {},
   "outputs": [],
   "source": []
  }
 ],
 "metadata": {
  "kernelspec": {
   "display_name": "Python 3 (ipykernel)",
   "language": "python",
   "name": "python3"
  },
  "language_info": {
   "codemirror_mode": {
    "name": "ipython",
    "version": 3
   },
   "file_extension": ".py",
   "mimetype": "text/x-python",
   "name": "python",
   "nbconvert_exporter": "python",
   "pygments_lexer": "ipython3",
   "version": "3.10.16"
  }
 },
 "nbformat": 4,
 "nbformat_minor": 5
}
